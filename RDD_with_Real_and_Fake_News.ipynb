{
  "nbformat": 4,
  "nbformat_minor": 0,
  "metadata": {
    "colab": {
      "provenance": [],
      "include_colab_link": true
    },
    "kernelspec": {
      "name": "python3",
      "display_name": "Python 3"
    },
    "language_info": {
      "name": "python"
    }
  },
  "cells": [
    {
      "cell_type": "markdown",
      "metadata": {
        "id": "view-in-github",
        "colab_type": "text"
      },
      "source": [
        "<a href=\"https://colab.research.google.com/github/leightonllc/hsbc-pyspark/blob/main/RDD_with_Real_and_Fake_News.ipynb\" target=\"_parent\"><img src=\"https://colab.research.google.com/assets/colab-badge.svg\" alt=\"Open In Colab\"/></a>"
      ]
    },
    {
      "cell_type": "markdown",
      "source": [
        "# RDD with Real and Fake News\n",
        "\n",
        "## Setup\n",
        "\n",
        "### Installing PySpark"
      ],
      "metadata": {
        "id": "rthh5uC7B0nG"
      }
    },
    {
      "cell_type": "code",
      "execution_count": null,
      "metadata": {
        "id": "lpL3Qsu_6rUw",
        "colab": {
          "base_uri": "https://localhost:8080/"
        },
        "outputId": "8ad585cf-addc-4afc-ef89-0eb0736f1916"
      },
      "outputs": [
        {
          "output_type": "stream",
          "name": "stdout",
          "text": [
            "Collecting pyspark\n",
            "  Downloading pyspark-3.4.1.tar.gz (310.8 MB)\n",
            "\u001b[2K     \u001b[90m━━━━━━━━━━━━━━━━━━━━━━━━━━━━━━━━━━━━━━━\u001b[0m \u001b[32m310.8/310.8 MB\u001b[0m \u001b[31m4.8 MB/s\u001b[0m eta \u001b[36m0:00:00\u001b[0m\n",
            "\u001b[?25h  Preparing metadata (setup.py) ... \u001b[?25l\u001b[?25hdone\n",
            "Requirement already satisfied: py4j==0.10.9.7 in /usr/local/lib/python3.10/dist-packages (from pyspark) (0.10.9.7)\n",
            "Building wheels for collected packages: pyspark\n",
            "  Building wheel for pyspark (setup.py) ... \u001b[?25l\u001b[?25hdone\n",
            "  Created wheel for pyspark: filename=pyspark-3.4.1-py2.py3-none-any.whl size=311285388 sha256=a4b473ed956918e55f8c7d8e4dbe88ac2f1fb615c04bb17537b963bc5a3b87dd\n",
            "  Stored in directory: /root/.cache/pip/wheels/0d/77/a3/ff2f74cc9ab41f8f594dabf0579c2a7c6de920d584206e0834\n",
            "Successfully built pyspark\n",
            "Installing collected packages: pyspark\n",
            "Successfully installed pyspark-3.4.1\n"
          ]
        }
      ],
      "source": [
        "!pip install pyspark"
      ]
    },
    {
      "cell_type": "markdown",
      "source": [
        "### Create SparkSession"
      ],
      "metadata": {
        "id": "E1GL9bhICHxs"
      }
    },
    {
      "cell_type": "code",
      "source": [
        "from pyspark.sql import SparkSession\n",
        "\n",
        "spark = (\n",
        "    SparkSession\n",
        "    .builder\n",
        "    .master('local[*]')\n",
        "    .appName('myapp')\n",
        "    .getOrCreate()\n",
        ")\n",
        "spark"
      ],
      "metadata": {
        "id": "_wmcItGV6zbC",
        "colab": {
          "base_uri": "https://localhost:8080/",
          "height": 220
        },
        "outputId": "70913ef6-c37a-48ac-9956-038938f3e028"
      },
      "execution_count": null,
      "outputs": [
        {
          "output_type": "execute_result",
          "data": {
            "text/plain": [
              "<pyspark.sql.session.SparkSession at 0x7d14c09f5210>"
            ],
            "text/html": [
              "\n",
              "            <div>\n",
              "                <p><b>SparkSession - in-memory</b></p>\n",
              "                \n",
              "        <div>\n",
              "            <p><b>SparkContext</b></p>\n",
              "\n",
              "            <p><a href=\"http://0a265c9aca5a:4040\">Spark UI</a></p>\n",
              "\n",
              "            <dl>\n",
              "              <dt>Version</dt>\n",
              "                <dd><code>v3.4.1</code></dd>\n",
              "              <dt>Master</dt>\n",
              "                <dd><code>local[*]</code></dd>\n",
              "              <dt>AppName</dt>\n",
              "                <dd><code>myapp</code></dd>\n",
              "            </dl>\n",
              "        </div>\n",
              "        \n",
              "            </div>\n",
              "        "
            ]
          },
          "metadata": {},
          "execution_count": 2
        }
      ]
    },
    {
      "cell_type": "markdown",
      "source": [
        "### Download csv file"
      ],
      "metadata": {
        "id": "evzpR7CHCYr4"
      }
    },
    {
      "cell_type": "code",
      "source": [
        "!wget https://tinyurl.com/pyspark-news-csv -O news.csv"
      ],
      "metadata": {
        "id": "EUarWXyQ8ObV",
        "colab": {
          "base_uri": "https://localhost:8080/"
        },
        "outputId": "b71b66a9-54c1-40d3-cc97-ef28002eb7a8"
      },
      "execution_count": null,
      "outputs": [
        {
          "output_type": "stream",
          "name": "stdout",
          "text": [
            "--2023-08-22 03:15:23--  https://tinyurl.com/pyspark-news-csv\n",
            "Resolving tinyurl.com (tinyurl.com)... 104.20.138.65, 172.67.1.225, 104.20.139.65, ...\n",
            "Connecting to tinyurl.com (tinyurl.com)|104.20.138.65|:443... connected.\n",
            "HTTP request sent, awaiting response... 301 Moved Permanently\n",
            "Location: https://raw.githubusercontent.com/justincheu-ng/misc/master/news.csv [following]\n",
            "--2023-08-22 03:15:23--  https://raw.githubusercontent.com/justincheu-ng/misc/master/news.csv\n",
            "Resolving raw.githubusercontent.com (raw.githubusercontent.com)... 185.199.108.133, 185.199.109.133, 185.199.110.133, ...\n",
            "Connecting to raw.githubusercontent.com (raw.githubusercontent.com)|185.199.108.133|:443... connected.\n",
            "HTTP request sent, awaiting response... 200 OK\n",
            "Length: 103153854 (98M) [text/plain]\n",
            "Saving to: ‘news.csv’\n",
            "\n",
            "news.csv            100%[===================>]  98.38M   296MB/s    in 0.3s    \n",
            "\n",
            "2023-08-22 03:15:24 (296 MB/s) - ‘news.csv’ saved [103153854/103153854]\n",
            "\n"
          ]
        }
      ]
    },
    {
      "cell_type": "markdown",
      "source": [
        "### Read CSV file"
      ],
      "metadata": {
        "id": "jXkIKT8ICb3U"
      }
    },
    {
      "cell_type": "code",
      "source": [
        "import csv\n",
        "\n",
        "# Get SparkContext\n",
        "sc = spark.sparkContext\n",
        "\n",
        "# Read CSV file as an RDD of lines\n",
        "csv_rdd = sc.textFile(\"./news.csv\")\n",
        "\n",
        "# Parse CSV lines using the csv module\n",
        "data_rdd = csv_rdd.map(lambda line: next(csv.reader([line])))\n",
        "\n",
        "data_rdd.take(2)"
      ],
      "metadata": {
        "id": "MiL4KnIT7ooW",
        "colab": {
          "base_uri": "https://localhost:8080/"
        },
        "outputId": "a92ca7be-deed-4a37-b0aa-e4ead8a1d1c4"
      },
      "execution_count": null,
      "outputs": [
        {
          "output_type": "execute_result",
          "data": {
            "text/plain": [
              "[['title', 'text', 'label'],\n",
              " ['STUDY REVEALS MASSIVE SPENDING: Shocking Welfare Use By Immigrants Cannot Go On!',\n",
              "  'THE CENTER FOR IMMIGRATION STUDIES IS AMAZING AT GETTING TO THE FACTS IN THE IMMIGRATION BATTLE: They bring to the table a huge set of figures that should shock every American into action on the state AND federal level. The bottom line is that YOU are paying way too much for legal AND illegal immigrants to come to America and live off of your tax dollars! We cannot and should not go on like this! Please read up and share!A new study on the use of welfare benefits by illegal and legal immigrants in the U.S. finds that households headed by immigrants use an average of $6,200 in benefits annually, fully 41 percent higher than the rate used by native born welfare recipients:This study comes on the heels of another study finding that 51 percent of immigrant households are signed up for at least one welfare program.  Immigrants are such heavy users of welfare not because they don t work, but because, on average, they have little education and thus earn low wages,  said Mark Krikorian, executive director of the Center for Immigration Studies (CIS).  If we continue to permit large numbers of less-educated people to move here from abroad, we have to accept that there will be huge and ongoing costs to taxpayers.  The study, based on the Census Bureau s 2012 Survey of Income and Program Participation (SIPP), notes that the higher use of welfare benefits because by and large the current wave of immigrants are less educated and have fewer needed job skills and are therefore more apt to apply for welfare benefits.The study found the average immigrant household receives 33 percent more cash welfare, 57 percent more food assistance, and 44 percent more Medicaid dollars than the average native-born applicants. Additionally, the highest amount of welfare is taken by immigrants from Central America and Mexico at $8,251 per household, a rate 86 percent higher than native citizens.  The greater consumption of welfare dollars by immigrants can be explained in large part by their lower level of education and larger number of children compared to natives,  CIS said in a press release.  Over 24 percent of immigrant households are headed by a high school dropout, compared to just 8 percent of native households. In addition, 13 percent of immigrant households have three or more children, vs. just 6 percent of native households.   While it is important for Americans to understand the rate of welfare use among immigrants, expressing that use in dollar terms offers a more tangible metric that is tied to current debates over fiscal policy. With the nation facing a long-term budgetary deficit, this study helps illuminate immigration s impact on the problem,  said the report s author, Jason Richwine. Richwine also noted that even as illegal immigrants are supposed to be barred from receiving welfare they receive it anyway by applying for benefits for their American-born children, often called  anchor babies. Via: Breitbart',\n",
              "  'Fake']]"
            ]
          },
          "metadata": {},
          "execution_count": 4
        }
      ]
    },
    {
      "cell_type": "markdown",
      "source": [
        "### Remove header"
      ],
      "metadata": {
        "id": "rDxSlLdLChw0"
      }
    },
    {
      "cell_type": "code",
      "source": [
        "# Extract header line\n",
        "header = data_rdd.take(1)\n",
        "\n",
        "# Remove header line from RDD\n",
        "data_rdd = data_rdd.filter(lambda line: line != header)\n",
        "\n",
        "data_rdd.take(2)"
      ],
      "metadata": {
        "id": "YS6qmKN87_UK",
        "colab": {
          "base_uri": "https://localhost:8080/"
        },
        "outputId": "f87dfd4f-c784-4dd8-c1a2-784c61929b28"
      },
      "execution_count": null,
      "outputs": [
        {
          "output_type": "execute_result",
          "data": {
            "text/plain": [
              "[['STUDY REVEALS MASSIVE SPENDING: Shocking Welfare Use By Immigrants Cannot Go On!',\n",
              "  'THE CENTER FOR IMMIGRATION STUDIES IS AMAZING AT GETTING TO THE FACTS IN THE IMMIGRATION BATTLE: They bring to the table a huge set of figures that should shock every American into action on the state AND federal level. The bottom line is that YOU are paying way too much for legal AND illegal immigrants to come to America and live off of your tax dollars! We cannot and should not go on like this! Please read up and share!A new study on the use of welfare benefits by illegal and legal immigrants in the U.S. finds that households headed by immigrants use an average of $6,200 in benefits annually, fully 41 percent higher than the rate used by native born welfare recipients:This study comes on the heels of another study finding that 51 percent of immigrant households are signed up for at least one welfare program.  Immigrants are such heavy users of welfare not because they don t work, but because, on average, they have little education and thus earn low wages,  said Mark Krikorian, executive director of the Center for Immigration Studies (CIS).  If we continue to permit large numbers of less-educated people to move here from abroad, we have to accept that there will be huge and ongoing costs to taxpayers.  The study, based on the Census Bureau s 2012 Survey of Income and Program Participation (SIPP), notes that the higher use of welfare benefits because by and large the current wave of immigrants are less educated and have fewer needed job skills and are therefore more apt to apply for welfare benefits.The study found the average immigrant household receives 33 percent more cash welfare, 57 percent more food assistance, and 44 percent more Medicaid dollars than the average native-born applicants. Additionally, the highest amount of welfare is taken by immigrants from Central America and Mexico at $8,251 per household, a rate 86 percent higher than native citizens.  The greater consumption of welfare dollars by immigrants can be explained in large part by their lower level of education and larger number of children compared to natives,  CIS said in a press release.  Over 24 percent of immigrant households are headed by a high school dropout, compared to just 8 percent of native households. In addition, 13 percent of immigrant households have three or more children, vs. just 6 percent of native households.   While it is important for Americans to understand the rate of welfare use among immigrants, expressing that use in dollar terms offers a more tangible metric that is tied to current debates over fiscal policy. With the nation facing a long-term budgetary deficit, this study helps illuminate immigration s impact on the problem,  said the report s author, Jason Richwine. Richwine also noted that even as illegal immigrants are supposed to be barred from receiving welfare they receive it anyway by applying for benefits for their American-born children, often called  anchor babies. Via: Breitbart',\n",
              "  'Fake'],\n",
              " ['WHOA! CHRIS MATTHEWS DEFIES Liberal Media Script…Says FBI Director Didn’t Exonerate Hillary: “There Is A Difference Between Acquittal And Innocence”',\n",
              "  'LOL! Chris  thrill up his leg  Matthews does his best to convince Steve Cortez, a Trump surrogate that he s not part of the liberal mainstream media. Matthew s boasts that over his decades long career as a political hack, he s criticized Al Gore s campaign and even gasp criticized Bill Clinton s elicit affair with a young intern. In reality, he criticized Al Gore s campaign because he lost to George W. Bush and even wth the full-force of the crooked Democrat party behind him, they couldn t find a way to make the numbers work in Gore s favor during the hotly contested recount in Florida. We re not even going to comment on the Clinton-Lewinsky scandal. The only reason the media didn t embarrass Hillary for habitually enabling her husband to sexually assault any female who was unfortunate enough to get caught behind a closed door with her rapist husband, is because they always knew this day was coming. They always knew Hillary would scratch and claw her way through any criminal controversy and find herself at the top of the Democrat Party as the  anointed one .But oh yeah back to Chris Matthews and his  objectivity  when it comes to the Clintons:As a side note, here s Chris being  objective  on Hillary in March, 2016:',\n",
              "  'Fake']]"
            ]
          },
          "metadata": {},
          "execution_count": 5
        }
      ]
    },
    {
      "cell_type": "markdown",
      "source": [
        "## Tasks\n",
        "\n",
        "### 1. Count the number of records in the RDD."
      ],
      "metadata": {
        "id": "Gl9KC2PPCjyn"
      }
    },
    {
      "cell_type": "code",
      "source": [
        "# Your code\n",
        "\n"
      ],
      "metadata": {
        "id": "_GIgjxKnC7QP"
      },
      "execution_count": null,
      "outputs": []
    },
    {
      "cell_type": "markdown",
      "source": [
        "### 2. Filter the RDD to only contain records where the label is \"Fake\", then do the same for \"Real\" news"
      ],
      "metadata": {
        "id": "xl2RE99xCpUS"
      }
    },
    {
      "cell_type": "code",
      "source": [
        "# Your code\n",
        "\n"
      ],
      "metadata": {
        "id": "gRdBBJfb8GJY"
      },
      "execution_count": null,
      "outputs": []
    },
    {
      "cell_type": "code",
      "source": [
        "# Your code\n",
        "\n"
      ],
      "metadata": {
        "id": "NbOz48tZLhJ-"
      },
      "execution_count": null,
      "outputs": []
    },
    {
      "cell_type": "markdown",
      "source": [
        "### 3. Calculate the percentage of \"Fake\" records in the RDD."
      ],
      "metadata": {
        "id": "tf42qK9KFt0f"
      }
    },
    {
      "cell_type": "code",
      "source": [
        "# Your code\n",
        "\n"
      ],
      "metadata": {
        "id": "HFreJ7U-FtOK"
      },
      "execution_count": null,
      "outputs": []
    },
    {
      "cell_type": "markdown",
      "source": [
        "### 4. Find the title with the longest content in the RDD."
      ],
      "metadata": {
        "id": "zcZd76LlKjjI"
      }
    },
    {
      "cell_type": "code",
      "source": [
        "# Your code\n",
        "\n"
      ],
      "metadata": {
        "id": "uPbhf2_iKjzx"
      },
      "execution_count": null,
      "outputs": []
    },
    {
      "cell_type": "markdown",
      "source": [
        "### 5. Find the average number of words in the content column for real and fake news."
      ],
      "metadata": {
        "id": "2np0j72yGTLU"
      }
    },
    {
      "cell_type": "code",
      "source": [
        "# Your code\n",
        "\n"
      ],
      "metadata": {
        "id": "wS3K-J6ZH7sM"
      },
      "execution_count": null,
      "outputs": []
    },
    {
      "cell_type": "markdown",
      "source": [
        "### 6. Find the percentage of uppercase in the title of fake news and real news."
      ],
      "metadata": {
        "id": "BTMw9rGfH78X"
      }
    },
    {
      "cell_type": "code",
      "source": [
        "# Your code\n",
        "\n"
      ],
      "metadata": {
        "id": "ZSWKDR8tH8Qg"
      },
      "execution_count": null,
      "outputs": []
    }
  ]
}