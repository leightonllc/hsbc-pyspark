{
  "nbformat": 4,
  "nbformat_minor": 0,
  "metadata": {
    "colab": {
      "provenance": []
    },
    "kernelspec": {
      "name": "python3",
      "display_name": "Python 3"
    },
    "language_info": {
      "name": "python"
    }
  },
  "cells": [
    {
      "cell_type": "code",
      "execution_count": null,
      "metadata": {
        "colab": {
          "base_uri": "https://localhost:8080/"
        },
        "id": "S7mizVNZ5VDB",
        "outputId": "ea270f66-2e3e-4f52-b832-7edefe62ff63"
      },
      "outputs": [
        {
          "output_type": "stream",
          "name": "stdout",
          "text": [
            "Collecting pyspark\n",
            "  Downloading pyspark-3.4.1.tar.gz (310.8 MB)\n",
            "\u001b[2K     \u001b[90m━━━━━━━━━━━━━━━━━━━━━━━━━━━━━━━━━━━━━━━\u001b[0m \u001b[32m310.8/310.8 MB\u001b[0m \u001b[31m4.0 MB/s\u001b[0m eta \u001b[36m0:00:00\u001b[0m\n",
            "\u001b[?25h  Preparing metadata (setup.py) ... \u001b[?25l\u001b[?25hdone\n",
            "Requirement already satisfied: py4j==0.10.9.7 in /usr/local/lib/python3.10/dist-packages (from pyspark) (0.10.9.7)\n",
            "Building wheels for collected packages: pyspark\n",
            "  Building wheel for pyspark (setup.py) ... \u001b[?25l\u001b[?25hdone\n",
            "  Created wheel for pyspark: filename=pyspark-3.4.1-py2.py3-none-any.whl size=311285388 sha256=b2dc659a8298ced4d3d213f83e4f87bbf6d1ceec52c10d7032b24cb342aab3b2\n",
            "  Stored in directory: /root/.cache/pip/wheels/0d/77/a3/ff2f74cc9ab41f8f594dabf0579c2a7c6de920d584206e0834\n",
            "Successfully built pyspark\n",
            "Installing collected packages: pyspark\n",
            "Successfully installed pyspark-3.4.1\n"
          ]
        }
      ],
      "source": [
        "!pip install pyspark"
      ]
    },
    {
      "cell_type": "code",
      "source": [
        "from pyspark. sql import SparkSession\n",
        "\n",
        "spark = SparkSession \\\n",
        "  .builder           \\\n",
        "  .appName('myapp') \\\n",
        "  .getOrCreate()\n"
      ],
      "metadata": {
        "id": "WnzAqGz65tHf"
      },
      "execution_count": null,
      "outputs": []
    },
    {
      "cell_type": "code",
      "source": [
        "spark"
      ],
      "metadata": {
        "colab": {
          "base_uri": "https://localhost:8080/",
          "height": 221
        },
        "id": "IIY1biwE5tJ5",
        "outputId": "3cffb0b1-278e-4145-a5a4-21a34c5ab8ec"
      },
      "execution_count": null,
      "outputs": [
        {
          "output_type": "execute_result",
          "data": {
            "text/plain": [
              "<pyspark.sql.session.SparkSession at 0x78cae7181120>"
            ],
            "text/html": [
              "\n",
              "            <div>\n",
              "                <p><b>SparkSession - in-memory</b></p>\n",
              "                \n",
              "        <div>\n",
              "            <p><b>SparkContext</b></p>\n",
              "\n",
              "            <p><a href=\"http://9074da135cb0:4040\">Spark UI</a></p>\n",
              "\n",
              "            <dl>\n",
              "              <dt>Version</dt>\n",
              "                <dd><code>v3.4.1</code></dd>\n",
              "              <dt>Master</dt>\n",
              "                <dd><code>local[*]</code></dd>\n",
              "              <dt>AppName</dt>\n",
              "                <dd><code>myapp</code></dd>\n",
              "            </dl>\n",
              "        </div>\n",
              "        \n",
              "            </div>\n",
              "        "
            ]
          },
          "metadata": {},
          "execution_count": 7
        }
      ]
    },
    {
      "cell_type": "code",
      "source": [
        "sc = spark.sparkContext"
      ],
      "metadata": {
        "id": "GBhswUL65tL6"
      },
      "execution_count": null,
      "outputs": []
    },
    {
      "cell_type": "code",
      "source": [
        "nums = range(1, 501) # 1 to 500\n",
        "rdd = sc.parallelize(nums)"
      ],
      "metadata": {
        "id": "Z0BHarN_5tN3"
      },
      "execution_count": null,
      "outputs": []
    },
    {
      "cell_type": "code",
      "source": [
        "print(rdd)"
      ],
      "metadata": {
        "colab": {
          "base_uri": "https://localhost:8080/"
        },
        "id": "7MiKuLUA753Y",
        "outputId": "beb36bdc-a203-4cc1-85cf-692a8a4be083"
      },
      "execution_count": null,
      "outputs": [
        {
          "output_type": "stream",
          "name": "stdout",
          "text": [
            "PythonRDD[1] at RDD at PythonRDD.scala:53\n"
          ]
        }
      ]
    },
    {
      "cell_type": "code",
      "source": [
        "rdd.collect()"
      ],
      "metadata": {
        "id": "Ti-seqkX757v"
      },
      "execution_count": null,
      "outputs": []
    },
    {
      "cell_type": "code",
      "source": [
        "rdd.take(15)"
      ],
      "metadata": {
        "colab": {
          "base_uri": "https://localhost:8080/"
        },
        "id": "YEb-M87c8zF7",
        "outputId": "d5611844-5b3b-4355-db4d-c08aab59b18c"
      },
      "execution_count": null,
      "outputs": [
        {
          "output_type": "execute_result",
          "data": {
            "text/plain": [
              "[1, 2, 3, 4, 5, 6, 7, 8, 9, 10, 11, 12, 13, 14, 15]"
            ]
          },
          "metadata": {},
          "execution_count": 12
        }
      ]
    },
    {
      "cell_type": "code",
      "source": [
        "rdd.map(lambda num: num**2).take(15)"
      ],
      "metadata": {
        "colab": {
          "base_uri": "https://localhost:8080/"
        },
        "id": "eeAnAb7k8zIj",
        "outputId": "b49fc447-f5e5-4523-882f-0cc259c65648"
      },
      "execution_count": null,
      "outputs": [
        {
          "output_type": "execute_result",
          "data": {
            "text/plain": [
              "[1, 4, 9, 16, 25, 36, 49, 64, 81, 100, 121, 144, 169, 196, 225]"
            ]
          },
          "metadata": {},
          "execution_count": 13
        }
      ]
    },
    {
      "cell_type": "code",
      "source": [
        "rdd.map(lambda num: (num, num**2)).take(15)"
      ],
      "metadata": {
        "colab": {
          "base_uri": "https://localhost:8080/"
        },
        "id": "4Hl1ETIr75-F",
        "outputId": "c1c4f118-952a-46e3-a4f8-cd0796319e28"
      },
      "execution_count": null,
      "outputs": [
        {
          "output_type": "execute_result",
          "data": {
            "text/plain": [
              "[(1, 1),\n",
              " (2, 4),\n",
              " (3, 9),\n",
              " (4, 16),\n",
              " (5, 25),\n",
              " (6, 36),\n",
              " (7, 49),\n",
              " (8, 64),\n",
              " (9, 81),\n",
              " (10, 100),\n",
              " (11, 121),\n",
              " (12, 144),\n",
              " (13, 169),\n",
              " (14, 196),\n",
              " (15, 225)]"
            ]
          },
          "metadata": {},
          "execution_count": 14
        }
      ]
    },
    {
      "cell_type": "code",
      "source": [
        "pair_rdd = rdd.map(lambda num: (num, num**2))"
      ],
      "metadata": {
        "id": "y0nE9s4aBY7s"
      },
      "execution_count": null,
      "outputs": []
    },
    {
      "cell_type": "code",
      "source": [
        "pair_rdd.take(15)"
      ],
      "metadata": {
        "colab": {
          "base_uri": "https://localhost:8080/"
        },
        "id": "XahzzGYNBnms",
        "outputId": "578fa01e-e2a4-4f19-d57a-4ddabb502933"
      },
      "execution_count": null,
      "outputs": [
        {
          "output_type": "execute_result",
          "data": {
            "text/plain": [
              "[(1, 1),\n",
              " (2, 4),\n",
              " (3, 9),\n",
              " (4, 16),\n",
              " (5, 25),\n",
              " (6, 36),\n",
              " (7, 49),\n",
              " (8, 64),\n",
              " (9, 81),\n",
              " (10, 100),\n",
              " (11, 121),\n",
              " (12, 144),\n",
              " (13, 169),\n",
              " (14, 196),\n",
              " (15, 225)]"
            ]
          },
          "metadata": {},
          "execution_count": 21
        }
      ]
    },
    {
      "cell_type": "code",
      "source": [
        "pair_rdd.filter(lambda x: len(str(x[1])) == 3).max(lambda x: x[1])"
      ],
      "metadata": {
        "id": "Kg8b-OhL76Ar",
        "colab": {
          "base_uri": "https://localhost:8080/"
        },
        "outputId": "0a2e24f6-5473-410a-a65f-ca87f05557a3"
      },
      "execution_count": null,
      "outputs": [
        {
          "output_type": "execute_result",
          "data": {
            "text/plain": [
              "(31, 961)"
            ]
          },
          "metadata": {},
          "execution_count": 26
        }
      ]
    },
    {
      "cell_type": "code",
      "source": [
        "length_rdd = rdd.map(lambda num: (num, num**2, len(str(num**2))))\n",
        "length_rdd.take(15)"
      ],
      "metadata": {
        "id": "3_DXaNRp76Cz",
        "colab": {
          "base_uri": "https://localhost:8080/"
        },
        "outputId": "356ca378-b871-4ae2-8274-f457aa91e00c"
      },
      "execution_count": null,
      "outputs": [
        {
          "output_type": "execute_result",
          "data": {
            "text/plain": [
              "[(1, 1, 1),\n",
              " (2, 4, 1),\n",
              " (3, 9, 1),\n",
              " (4, 16, 2),\n",
              " (5, 25, 2),\n",
              " (6, 36, 2),\n",
              " (7, 49, 2),\n",
              " (8, 64, 2),\n",
              " (9, 81, 2),\n",
              " (10, 100, 3),\n",
              " (11, 121, 3),\n",
              " (12, 144, 3),\n",
              " (13, 169, 3),\n",
              " (14, 196, 3),\n",
              " (15, 225, 3)]"
            ]
          },
          "metadata": {},
          "execution_count": 27
        }
      ]
    },
    {
      "cell_type": "code",
      "source": [
        "grouped_rdd = length_rdd.groupBy(lambda x: x[2])\n",
        "grouped_rdd.take(15)"
      ],
      "metadata": {
        "colab": {
          "base_uri": "https://localhost:8080/"
        },
        "id": "a8ujaS2JCFFr",
        "outputId": "a710701b-bc55-44ac-9f0d-5f497435f558"
      },
      "execution_count": null,
      "outputs": [
        {
          "output_type": "execute_result",
          "data": {
            "text/plain": [
              "[(2, <pyspark.resultiterable.ResultIterable at 0x78cad09343a0>),\n",
              " (4, <pyspark.resultiterable.ResultIterable at 0x78cad09349a0>),\n",
              " (6, <pyspark.resultiterable.ResultIterable at 0x78cad0936350>),\n",
              " (1, <pyspark.resultiterable.ResultIterable at 0x78cad0935690>),\n",
              " (3, <pyspark.resultiterable.ResultIterable at 0x78cad0934a00>),\n",
              " (5, <pyspark.resultiterable.ResultIterable at 0x78cad0936410>)]"
            ]
          },
          "metadata": {},
          "execution_count": 28
        }
      ]
    },
    {
      "cell_type": "code",
      "source": [
        "sorted_rdd = grouped_rdd.sortByKey()\n",
        "sorted_rdd.take(15)"
      ],
      "metadata": {
        "colab": {
          "base_uri": "https://localhost:8080/"
        },
        "id": "cWGfwPnxCFHy",
        "outputId": "8dbf58aa-318d-4479-edab-34e345e5a400"
      },
      "execution_count": null,
      "outputs": [
        {
          "output_type": "execute_result",
          "data": {
            "text/plain": [
              "[(1, <pyspark.resultiterable.ResultIterable at 0x78cad0934970>),\n",
              " (2, <pyspark.resultiterable.ResultIterable at 0x78cad0934280>),\n",
              " (3, <pyspark.resultiterable.ResultIterable at 0x78cad0936110>),\n",
              " (4, <pyspark.resultiterable.ResultIterable at 0x78cad0936740>),\n",
              " (5, <pyspark.resultiterable.ResultIterable at 0x78cad0934e80>),\n",
              " (6, <pyspark.resultiterable.ResultIterable at 0x78cae6e4bfd0>)]"
            ]
          },
          "metadata": {},
          "execution_count": 29
        }
      ]
    },
    {
      "cell_type": "code",
      "source": [
        "length_counts = length_rdd.map(lambda x: (x[2], 1)).reduceByKey(lambda a, b: a + b)\n",
        "\n",
        "for length, count in length_counts.collect():\n",
        "    print(\"Numbers with length {}: {}\".format(length, count))"
      ],
      "metadata": {
        "id": "I-b3GNnRC7mG"
      },
      "execution_count": null,
      "outputs": []
    },
    {
      "cell_type": "code",
      "source": [
        "sorted_rdd.map(lambda x: (x[0], len(list(x[1])))).take(15)"
      ],
      "metadata": {
        "colab": {
          "base_uri": "https://localhost:8080/"
        },
        "id": "oI2e0N9UNuxS",
        "outputId": "e3779035-f70a-40eb-92e0-2620ad304568"
      },
      "execution_count": null,
      "outputs": [
        {
          "output_type": "execute_result",
          "data": {
            "text/plain": [
              "[(1, 3), (2, 6), (3, 22), (4, 68), (5, 217), (6, 184)]"
            ]
          },
          "metadata": {},
          "execution_count": 32
        }
      ]
    },
    {
      "cell_type": "code",
      "source": [
        "#https://colab.research.google.com/drive/1oTlxhlHUG7BtCUnP1wp630Pp7bMsAixj?usp=sharing"
      ],
      "metadata": {
        "id": "j5c2iRlKOG4x"
      },
      "execution_count": null,
      "outputs": []
    },
    {
      "cell_type": "code",
      "source": [],
      "metadata": {
        "id": "arRaf4GzOHAY"
      },
      "execution_count": null,
      "outputs": []
    }
  ]
}