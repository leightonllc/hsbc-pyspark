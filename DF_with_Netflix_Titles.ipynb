{
  "nbformat": 4,
  "nbformat_minor": 0,
  "metadata": {
    "colab": {
      "provenance": []
    },
    "kernelspec": {
      "name": "python3",
      "display_name": "Python 3"
    },
    "language_info": {
      "name": "python"
    }
  },
  "cells": [
    {
      "cell_type": "markdown",
      "source": [
        "# DF with Netflix Titles\n",
        "\n",
        "## Setup"
      ],
      "metadata": {
        "id": "4ac6zuRRH45c"
      }
    },
    {
      "cell_type": "code",
      "execution_count": null,
      "metadata": {
        "colab": {
          "base_uri": "https://localhost:8080/"
        },
        "id": "zhdexcirimLs",
        "outputId": "0b1c802b-8cef-4a92-ae5b-19e76fa2c5b5"
      },
      "outputs": [
        {
          "output_type": "stream",
          "name": "stdout",
          "text": [
            "Collecting pyspark\n",
            "  Downloading pyspark-3.4.1.tar.gz (310.8 MB)\n",
            "\u001b[2K     \u001b[90m━━━━━━━━━━━━━━━━━━━━━━━━━━━━━━━━━━━━━━━\u001b[0m \u001b[32m310.8/310.8 MB\u001b[0m \u001b[31m2.9 MB/s\u001b[0m eta \u001b[36m0:00:00\u001b[0m\n",
            "\u001b[?25h  Preparing metadata (setup.py) ... \u001b[?25l\u001b[?25hdone\n",
            "Requirement already satisfied: py4j==0.10.9.7 in /usr/local/lib/python3.10/dist-packages (from pyspark) (0.10.9.7)\n",
            "Building wheels for collected packages: pyspark\n",
            "  Building wheel for pyspark (setup.py) ... \u001b[?25l\u001b[?25hdone\n",
            "  Created wheel for pyspark: filename=pyspark-3.4.1-py2.py3-none-any.whl size=311285388 sha256=d848e6000683bf901db58eecfc3fe0a3c793ef5abc145d68e8330544faa8f5fd\n",
            "  Stored in directory: /root/.cache/pip/wheels/0d/77/a3/ff2f74cc9ab41f8f594dabf0579c2a7c6de920d584206e0834\n",
            "Successfully built pyspark\n",
            "Installing collected packages: pyspark\n",
            "Successfully installed pyspark-3.4.1\n",
            "--2023-08-22 09:22:13--  https://tinyurl.com/pyspark-netflix-csv\n",
            "Resolving tinyurl.com (tinyurl.com)... 172.67.1.225, 104.20.138.65, 104.20.139.65, ...\n",
            "Connecting to tinyurl.com (tinyurl.com)|172.67.1.225|:443... connected.\n",
            "HTTP request sent, awaiting response... 301 Moved Permanently\n",
            "Location: https://raw.githubusercontent.com/justincheu-ng/misc/master/netflix.csv [following]\n",
            "--2023-08-22 09:22:13--  https://raw.githubusercontent.com/justincheu-ng/misc/master/netflix.csv\n",
            "Resolving raw.githubusercontent.com (raw.githubusercontent.com)... 185.199.108.133, 185.199.110.133, 185.199.109.133, ...\n",
            "Connecting to raw.githubusercontent.com (raw.githubusercontent.com)|185.199.108.133|:443... connected.\n",
            "HTTP request sent, awaiting response... 200 OK\n",
            "Length: 3399671 (3.2M) [text/plain]\n",
            "Saving to: ‘netflix.csv’\n",
            "\n",
            "netflix.csv         100%[===================>]   3.24M  --.-KB/s    in 0.05s   \n",
            "\n",
            "2023-08-22 09:22:14 (64.3 MB/s) - ‘netflix.csv’ saved [3399671/3399671]\n",
            "\n"
          ]
        }
      ],
      "source": [
        "!pip install pyspark\n",
        "\n",
        "from pyspark.sql import SparkSession\n",
        "from pyspark.sql import functions as F\n",
        "\n",
        "spark = (\n",
        "    SparkSession\n",
        "    .builder\n",
        "    .master('local[*]')\n",
        "    .appName('myapp')\n",
        "    .getOrCreate()\n",
        ")\n",
        "\n",
        "!wget https://tinyurl.com/pyspark-netflix-csv -O netflix.csv"
      ]
    },
    {
      "cell_type": "code",
      "source": [
        "df = (\n",
        "    spark.read\n",
        "         .csv('netflix.csv',header=True,inferSchema=True)\n",
        "         .withColumn('date_added', F.trim('date_added'))\n",
        "         .withColumn('date_added', F.to_date('date_added', format=\"MMMM d, yyyy\"))\n",
        "         .dropna()\n",
        ")\n",
        "df.show()"
      ],
      "metadata": {
        "id": "4A0_PTtYi86m",
        "colab": {
          "base_uri": "https://localhost:8080/"
        },
        "outputId": "90408f20-86ae-4662-915a-f50497693567"
      },
      "execution_count": null,
      "outputs": [
        {
          "output_type": "stream",
          "name": "stdout",
          "text": [
            "+-------+-------+--------------------+-------------------+--------------------+--------------------+----------+------------+------+---------+--------------------+--------------------+\n",
            "|show_id|   type|               title|           director|                cast|             country|date_added|release_year|rating| duration|           listed_in|         description|\n",
            "+-------+-------+--------------------+-------------------+--------------------+--------------------+----------+------------+------+---------+--------------------+--------------------+\n",
            "|     s8|  Movie|             Sankofa|       Haile Gerima|Kofi Ghanaba, Oya...|United States, Gh...|2021-09-24|        1993| TV-MA|  125 min|Dramas, Independe...|On a photo shoot ...|\n",
            "|     s9|TV Show|The Great British...|    Andy Devonshire|Mel Giedroyc, Sue...|      United Kingdom|2021-09-24|        2021| TV-14|9 Seasons|British TV Shows,...|A talented batch ...|\n",
            "|    s10|  Movie|        The Starling|     Theodore Melfi|Melissa McCarthy,...|       United States|2021-09-24|        2021| PG-13|  104 min|    Comedies, Dramas|A woman adjusting...|\n",
            "|    s13|  Movie|        Je Suis Karl|Christian Schwochow|Luna Wedler, Jann...|Germany, Czech Re...|2021-09-23|        2021| TV-MA|  127 min|Dramas, Internati...|After most of her...|\n",
            "|    s25|  Movie|               Jeans|         S. Shankar|Prashanth, Aishwa...|               India|2021-09-21|        1998| TV-14|  166 min|Comedies, Interna...|When the father o...|\n",
            "|    s28|  Movie|           Grown Ups|       Dennis Dugan|Adam Sandler, Kev...|       United States|2021-09-20|        2010| PG-13|  103 min|            Comedies|Mourning the loss...|\n",
            "|    s29|  Movie|          Dark Skies|      Scott Stewart|Keri Russell, Jos...|       United States|2021-09-19|        2013| PG-13|   97 min|Horror Movies, Sc...|A family’s idylli...|\n",
            "|    s30|  Movie|            Paranoia|     Robert Luketic|Liam Hemsworth, G...|United States, In...|2021-09-19|        2013| PG-13|  106 min|           Thrillers|Blackmailed by hi...|\n",
            "|    s39|  Movie| Birth of the Dragon|       George Nolfi|Billy Magnussen, ...|China, Canada, Un...|2021-09-16|        2017| PG-13|   96 min|Action & Adventur...|A young Bruce Lee...|\n",
            "|    s42|  Movie|                Jaws|   Steven Spielberg|Roy Scheider, Rob...|       United States|2021-09-16|        1975|    PG|  124 min|Action & Adventur...|When an insatiabl...|\n",
            "|    s43|  Movie|              Jaws 2|     Jeannot Szwarc|Roy Scheider, Lor...|       United States|2021-09-16|        1978|    PG|  116 min|Dramas, Horror Mo...|Four years after ...|\n",
            "|    s44|  Movie|              Jaws 3|          Joe Alves|Dennis Quaid, Bes...|       United States|2021-09-16|        1983|    PG|   98 min|Action & Adventur...|After the staff o...|\n",
            "|    s45|  Movie|   Jaws: The Revenge|     Joseph Sargent|Lorraine Gary, La...|       United States|2021-09-16|        1987| PG-13|   91 min|Action & Adventur...|After another dea...|\n",
            "|    s47|  Movie|          Safe House|    Daniel Espinosa|Denzel Washington...|South Africa, Uni...|2021-09-16|        2012|     R|  115 min|  Action & Adventure|Young CIA operati...|\n",
            "|    s49|  Movie|        Training Day|      Antoine Fuqua|Denzel Washington...|       United States|2021-09-16|        2001|     R|  122 min|   Dramas, Thrillers|A rookie cop with...|\n",
            "|    s52|  Movie|InuYasha the Movi...|  Toshiya Shinohara|Kappei Yamaguchi,...|               Japan|2021-09-15|        2002| TV-14|   99 min|Action & Adventur...|With their bigges...|\n",
            "|    s53|  Movie|InuYasha the Movi...|  Toshiya Shinohara|Kappei Yamaguchi,...|               Japan|2021-09-15|        2003| TV-14|   99 min|Action & Adventur...|The Great Dog Dem...|\n",
            "|    s54|  Movie|InuYasha the Movi...|  Toshiya Shinohara|Kappei Yamaguchi,...|               Japan|2021-09-15|        2004| TV-PG|   88 min|Action & Adventur...|Ai, a young half-...|\n",
            "|    s55|  Movie|InuYasha the Movi...|  Toshiya Shinohara|Kappei Yamaguchi,...|               Japan|2021-09-15|        2001| TV-PG|  100 min|Action & Adventur...|A powerful demon ...|\n",
            "|    s57|  Movie|Naruto Shippuden ...|    Masahiko Murata|Junko Takeuchi, C...|               Japan|2021-09-15|        2011| TV-14|  102 min|Action & Adventur...|Mistakenly accuse...|\n",
            "+-------+-------+--------------------+-------------------+--------------------+--------------------+----------+------------+------+---------+--------------------+--------------------+\n",
            "only showing top 20 rows\n",
            "\n"
          ]
        }
      ]
    },
    {
      "cell_type": "markdown",
      "source": [
        "## Task\n",
        "\n",
        "### 1. Count the number of movies and TV Show"
      ],
      "metadata": {
        "id": "tI35QVukHw-R"
      }
    },
    {
      "cell_type": "code",
      "source": [
        "# your code\n",
        "\n",
        "df.count()"
      ],
      "metadata": {
        "id": "IBEaT3wuMrcq",
        "colab": {
          "base_uri": "https://localhost:8080/"
        },
        "outputId": "c5be49b1-c74e-4877-da88-cee13ff0fd02"
      },
      "execution_count": null,
      "outputs": [
        {
          "output_type": "execute_result",
          "data": {
            "text/plain": [
              "5316"
            ]
          },
          "metadata": {},
          "execution_count": 11
        }
      ]
    },
    {
      "cell_type": "markdown",
      "source": [
        "### 2. List all the directors"
      ],
      "metadata": {
        "id": "36lIw_hGIJJq"
      }
    },
    {
      "cell_type": "code",
      "source": [
        "# your code\n",
        "(\n",
        "  df.select('director')\n",
        "    .distinct()\n",
        "    .show()\n",
        ")"
      ],
      "metadata": {
        "id": "IRKywGPoIaDU",
        "colab": {
          "base_uri": "https://localhost:8080/"
        },
        "outputId": "686e0466-73d0-4bf6-b4d6-947cdd3c58c6"
      },
      "execution_count": null,
      "outputs": [
        {
          "output_type": "stream",
          "name": "stdout",
          "text": [
            "+--------------------+\n",
            "|            director|\n",
            "+--------------------+\n",
            "|           Eric Meza|\n",
            "|          John Wells|\n",
            "|         Erol Özlevi|\n",
            "|   Jennifer Westcott|\n",
            "|       Neeraj Pandey|\n",
            "|   Wash Westmoreland|\n",
            "|       Patricia Font|\n",
            "|          Bobby Roth|\n",
            "|      Aleksey German|\n",
            "| Rhiannon Bannenberg|\n",
            "|      Elizabeth Wood|\n",
            "|          Manish Jha|\n",
            "|        April Mullen|\n",
            "|Harry Elfont, Deb...|\n",
            "|          Will Gluck|\n",
            "|Jesús Magaña Vázquez|\n",
            "|      Gail Willumsen|\n",
            "|Jacques Perrin, J...|\n",
            "|         John Milius|\n",
            "|        Pramod Pawar|\n",
            "+--------------------+\n",
            "only showing top 20 rows\n",
            "\n"
          ]
        }
      ]
    },
    {
      "cell_type": "code",
      "source": [],
      "metadata": {
        "id": "E2wq5biqjMqo"
      },
      "execution_count": null,
      "outputs": []
    },
    {
      "cell_type": "markdown",
      "source": [
        "### 3. Which title has the longest description?"
      ],
      "metadata": {
        "id": "Hd6oYNeEIetN"
      }
    },
    {
      "cell_type": "code",
      "source": [
        "# your code\n",
        "max_length =(\n",
        " df.select(F.length(F.col('description')))\n",
        "   .agg({\"length(description)\":\"max\"})\n",
        "   .collect()[0][0]\n",
        ")\n",
        "\n",
        "(\n",
        "  df.filter(F.length(F.col(\"description\")) == max_length)\n",
        "    .show()\n",
        ")"
      ],
      "metadata": {
        "id": "xpjx_BzMIt0-",
        "colab": {
          "base_uri": "https://localhost:8080/"
        },
        "outputId": "25ae5734-9198-47cb-b038-16fd588cdef5"
      },
      "execution_count": null,
      "outputs": [
        {
          "output_type": "stream",
          "name": "stdout",
          "text": [
            "+-------+-----+-----+------------+--------------------+-------+----------+------------+------+--------+--------------------+--------------------+\n",
            "|show_id| type|title|    director|                cast|country|date_added|release_year|rating|duration|           listed_in|         description|\n",
            "+-------+-----+-----+------------+--------------------+-------+----------+------------+------+--------+--------------------+--------------------+\n",
            "|  s4949|Movie|Billu|Priyadarshan|Irrfan Khan, Shah...|  India|2018-04-01|        2009| TV-PG| 132 min|Dramas, Internati...|An Indian village...|\n",
            "+-------+-----+-----+------------+--------------------+-------+----------+------------+------+--------+--------------------+--------------------+\n",
            "\n"
          ]
        }
      ]
    },
    {
      "cell_type": "code",
      "source": [
        "df.groupBy('show_id').agg(F.max(F.length('description')).alias('max_length')) \\\n",
        ".orderBy(F.col('max_length').desc()).limit(1).show()"
      ],
      "metadata": {
        "colab": {
          "base_uri": "https://localhost:8080/"
        },
        "id": "6_S5J-q7nhe8",
        "outputId": "1d9c5e70-1bd0-46ad-8a06-c01b9c7317af"
      },
      "execution_count": null,
      "outputs": [
        {
          "output_type": "stream",
          "name": "stdout",
          "text": [
            "+-------+----------+\n",
            "|show_id|max_length|\n",
            "+-------+----------+\n",
            "|  s4949|       248|\n",
            "+-------+----------+\n",
            "\n"
          ]
        }
      ]
    },
    {
      "cell_type": "markdown",
      "source": [
        "### 4. Create a pivot table on \"year\" against \"type\""
      ],
      "metadata": {
        "id": "U1WeHOZrIuJ4"
      }
    },
    {
      "cell_type": "code",
      "source": [
        "# Your code\n",
        "\n",
        "df.groupBy('release_year').pivot('type').count().show()"
      ],
      "metadata": {
        "id": "261mgNxLJMQt",
        "colab": {
          "base_uri": "https://localhost:8080/"
        },
        "outputId": "0dfb66aa-c0c3-48fb-ae7a-cc38d8f530a7"
      },
      "execution_count": null,
      "outputs": [
        {
          "output_type": "stream",
          "name": "stdout",
          "text": [
            "+------------+-----+-------+\n",
            "|release_year|Movie|TV Show|\n",
            "+------------+-----+-------+\n",
            "|        1987|    8|   null|\n",
            "|        1956|    2|   null|\n",
            "|        2016|  566|     10|\n",
            "|        2020|  408|     33|\n",
            "|        2012|  159|      4|\n",
            "|        1958|    3|   null|\n",
            "|        1972|    4|   null|\n",
            "|        1988|   15|   null|\n",
            "|        2019|  492|     24|\n",
            "|        2017|  638|     17|\n",
            "|        1977|    5|   null|\n",
            "|        2014|  234|      8|\n",
            "|        1971|    5|   null|\n",
            "|        1984|   11|   null|\n",
            "|        1982|   15|   null|\n",
            "|        2013|  195|      2|\n",
            "|        2005|   65|   null|\n",
            "|        2000|   32|   null|\n",
            "|        1965|    2|   null|\n",
            "|        1962|    3|   null|\n",
            "+------------+-----+-------+\n",
            "only showing top 20 rows\n",
            "\n"
          ]
        }
      ]
    },
    {
      "cell_type": "markdown",
      "source": [
        "### 5. Create a new column to calculate years between release year and year added to Netflix."
      ],
      "metadata": {
        "id": "_zzdFwGCJP6J"
      }
    },
    {
      "cell_type": "code",
      "source": [
        "# Your code\n",
        "\n",
        "df = df.withColumn('gap', F.year(df.date_added) - df.release_year)\n",
        "df.select(['release_year', 'date_added', 'gap']).show()"
      ],
      "metadata": {
        "id": "WoJ6tQkuJPeE",
        "colab": {
          "base_uri": "https://localhost:8080/"
        },
        "outputId": "72b24118-a343-4885-a726-54315bafaa47"
      },
      "execution_count": null,
      "outputs": [
        {
          "output_type": "stream",
          "name": "stdout",
          "text": [
            "+------------+----------+----+\n",
            "|release_year|date_added| gap|\n",
            "+------------+----------+----+\n",
            "|        1993|2021-09-24|28.0|\n",
            "|        2021|2021-09-24| 0.0|\n",
            "|        2021|2021-09-24| 0.0|\n",
            "|        2021|2021-09-23| 0.0|\n",
            "|        1998|2021-09-21|23.0|\n",
            "|        2010|2021-09-20|11.0|\n",
            "|        2013|2021-09-19| 8.0|\n",
            "|        2013|2021-09-19| 8.0|\n",
            "|        2017|2021-09-16| 4.0|\n",
            "|        1975|2021-09-16|46.0|\n",
            "|        1978|2021-09-16|43.0|\n",
            "|        1983|2021-09-16|38.0|\n",
            "|        1987|2021-09-16|34.0|\n",
            "|        2012|2021-09-16| 9.0|\n",
            "|        2001|2021-09-16|20.0|\n",
            "|        2002|2021-09-15|19.0|\n",
            "|        2003|2021-09-15|18.0|\n",
            "|        2004|2021-09-15|17.0|\n",
            "|        2001|2021-09-15|20.0|\n",
            "|        2011|2021-09-15|10.0|\n",
            "+------------+----------+----+\n",
            "only showing top 20 rows\n",
            "\n"
          ]
        }
      ]
    },
    {
      "cell_type": "markdown",
      "source": [
        "### 6. How many movie has Steven Spielberg directed?"
      ],
      "metadata": {
        "id": "puZBXFI-JuPd"
      }
    },
    {
      "cell_type": "code",
      "source": [
        "# Your code\n",
        "\n",
        "df.filter(df.director == 'Steven Spielberg').count()"
      ],
      "metadata": {
        "id": "6lMJvyVaJtx3",
        "colab": {
          "base_uri": "https://localhost:8080/"
        },
        "outputId": "154a1a2c-e19a-41fe-94c3-eaefb189125a"
      },
      "execution_count": null,
      "outputs": [
        {
          "output_type": "execute_result",
          "data": {
            "text/plain": [
              "11"
            ]
          },
          "metadata": {},
          "execution_count": 25
        }
      ]
    },
    {
      "cell_type": "markdown",
      "source": [
        "### 7. Which actress/actor has been casted in Comedies the most?"
      ],
      "metadata": {
        "id": "diwxk5oAKYYR"
      }
    },
    {
      "cell_type": "code",
      "source": [
        "# Your code\n",
        "\n",
        "df1 = df.filter(F.col('listed_in').like('%Comedies%'))\n",
        "\n",
        "df1 = df1.withColumn('cast_exploded', F.explode(F.split('cast', ', ')))\n",
        "\n",
        "df1 = df1.groupBy('cast_exploded').count().orderBy(F.col(\"count\").desc()).limit(1)\n",
        "\n",
        "df1.show()"
      ],
      "metadata": {
        "id": "z-uUPcmKKX_f",
        "colab": {
          "base_uri": "https://localhost:8080/"
        },
        "outputId": "3127cfff-5324-422f-a618-9c89bdd77c32"
      },
      "execution_count": null,
      "outputs": [
        {
          "output_type": "stream",
          "name": "stdout",
          "text": [
            "+-------------+-----+\n",
            "|cast_exploded|count|\n",
            "+-------------+-----+\n",
            "|  Anupam Kher|   20|\n",
            "+-------------+-----+\n",
            "\n"
          ]
        }
      ]
    },
    {
      "cell_type": "markdown",
      "source": [
        "### 8. Create a pivot table for country against categories"
      ],
      "metadata": {
        "id": "of_-aYJSKWwX"
      }
    },
    {
      "cell_type": "code",
      "source": [
        "# Your code\n",
        "\n",
        "df2 = df.withColumn('country_exploded', F.explode(F.split('country', ', ')))\n",
        "df2 = df2.withColumn('listed_in_exploded', F.explode(F.split('listed_in', ', ')))\n",
        "df2.groupBy('country_exploded').pivot('listed_in_exploded').count().show()"
      ],
      "metadata": {
        "id": "lP-AwLAZKQ_J",
        "colab": {
          "base_uri": "https://localhost:8080/"
        },
        "outputId": "7f3cca17-fe8b-4789-a7f9-7296d33a5ac7"
      },
      "execution_count": null,
      "outputs": [
        {
          "output_type": "stream",
          "name": "stdout",
          "text": [
            "+----------------+------------------+--------------+------------+----------------+------------------------+-----------------+--------------+--------+--------------+-----------+-------------+----------+------+--------------------+-------------+------------------+--------------------+----------------------+--------+---------------+------------+------+----------------+----------+---------------+-----------------+----------------+-------------------+-------------------------+-------------+---------------+----------------------------+---------------------+-----------+---------+---------+------------+-------------------+--------+------------+-------------+---------+\n",
            "|country_exploded|Action & Adventure|Anime Features|Anime Series|British TV Shows|Children & Family Movies|Classic & Cult TV|Classic Movies|Comedies|Crime TV Shows|Cult Movies|Documentaries|Docuseries|Dramas|Faith & Spirituality|Horror Movies|Independent Movies|International Movies|International TV Shows|Kids' TV|Korean TV Shows|LGBTQ Movies|Movies|Music & Musicals|Reality TV|Romantic Movies|Romantic TV Shows|Sci-Fi & Fantasy|Science & Nature TV|Spanish-Language TV Shows|Sports Movies|Stand-Up Comedy|Stand-Up Comedy & Talk Shows|TV Action & Adventure|TV Comedies|TV Dramas|TV Horror|TV Mysteries|TV Sci-Fi & Fantasy|TV Shows|TV Thrillers|Teen TV Shows|Thrillers|\n",
            "+----------------+------------------+--------------+------------+----------------+------------------------+-----------------+--------------+--------+--------------+-----------+-------------+----------+------+--------------------+-------------+------------------+--------------------+----------------------+--------+---------------+------------+------+----------------+----------+---------------+-----------------+----------------+-------------------+-------------------------+-------------+---------------+----------------------------+---------------------+-----------+---------+---------+------------+-------------------+--------+------------+-------------+---------+\n",
            "|          Russia|                 4|          null|        null|            null|                       1|             null|          null|       1|          null|       null|            1|      null|     3|                null|            1|              null|                   5|                     1|    null|           null|        null|  null|            null|      null|           null|             null|               2|               null|                     null|         null|           null|                        null|                 null|       null|        1|     null|           1|               null|    null|        null|         null|        1|\n",
            "|        Paraguay|                 1|          null|        null|            null|                    null|             null|          null|    null|          null|       null|         null|      null|  null|                null|         null|              null|                   1|                  null|    null|           null|        null|  null|            null|      null|           null|             null|            null|               null|                     null|         null|           null|                        null|                 null|       null|     null|     null|        null|               null|    null|        null|         null|     null|\n",
            "|         Senegal|              null|          null|        null|            null|                    null|             null|          null|    null|          null|       null|         null|      null|     1|                null|         null|                 1|                   1|                  null|    null|           null|        null|  null|            null|      null|           null|             null|            null|               null|                     null|         null|           null|                        null|                 null|       null|     null|     null|        null|               null|    null|        null|         null|     null|\n",
            "|          Sweden|                 2|          null|        null|            null|                    null|             null|          null|       5|          null|          1|            4|      null|    15|                null|         null|                 6|                  17|                  null|    null|           null|        null|  null|               2|      null|              1|             null|            null|               null|                     null|            1|              1|                        null|                 null|       null|     null|     null|        null|               null|    null|        null|         null|        5|\n",
            "|     Philippines|                 5|          null|           1|            null|                       2|             null|          null|      28|             1|       null|         null|      null|    50|                null|            4|                 3|                  78|                     1|    null|           null|           4|  null|               1|      null|             35|                1|            null|               null|                     null|            1|           null|                        null|                 null|          1|     null|        1|        null|               null|    null|        null|         null|        3|\n",
            "|       Singapore|                 5|          null|           1|            null|                    null|             null|          null|    null|             1|          1|            1|      null|     7|                null|            3|                 1|                  14|                  null|    null|           null|        null|  null|            null|      null|              1|             null|               1|               null|                     null|         null|              1|                        null|                 null|       null|     null|        1|        null|               null|    null|        null|         null|        3|\n",
            "|        Malaysia|                 5|          null|        null|            null|                       1|             null|          null|       7|          null|       null|         null|      null|    11|                null|            4|                 1|                  17|                     1|    null|           null|        null|  null|            null|      null|              2|             null|            null|               null|                     null|         null|           null|                        null|                 null|       null|        1|     null|           1|               null|    null|        null|         null|     null|\n",
            "|          Turkey|                 5|          null|        null|            null|                       2|             null|          null|      56|             2|       null|         null|      null|    29|                null|            4|                 3|                  78|                     5|    null|           null|        null|  null|               1|      null|             23|                1|            null|               null|                     null|            2|           null|                        null|                 null|          1|        4|     null|           1|               null|    null|           1|         null|        3|\n",
            "|          Malawi|              null|          null|        null|            null|                       1|             null|          null|    null|          null|       null|         null|      null|     1|                null|         null|                 1|                null|                  null|    null|           null|        null|  null|            null|      null|           null|             null|            null|               null|                     null|         null|           null|                        null|                 null|       null|     null|     null|        null|               null|    null|        null|         null|     null|\n",
            "|            Iraq|              null|          null|        null|            null|                    null|             null|          null|    null|          null|       null|            1|      null|  null|                null|         null|              null|                   1|                  null|    null|           null|        null|  null|            null|      null|           null|             null|            null|               null|                     null|         null|           null|                        null|                 null|       null|     null|     null|        null|               null|    null|        null|         null|     null|\n",
            "|         Germany|                31|          null|        null|               1|                      17|             null|          null|      41|          null|          4|           10|         1|    79|                   1|            7|                31|                  81|                     2|    null|           null|        null|  null|               8|      null|              9|             null|              13|               null|                     null|            4|              4|                        null|                 null|       null|        1|     null|        null|               null|    null|        null|         null|       26|\n",
            "|     Afghanistan|              null|          null|        null|            null|                    null|             null|          null|    null|          null|       null|            1|      null|  null|                null|         null|              null|                   1|                  null|    null|           null|        null|  null|            null|      null|           null|             null|            null|               null|                     null|         null|           null|                        null|                 null|       null|     null|     null|        null|               null|    null|        null|         null|     null|\n",
            "|        Cambodia|                 2|          null|        null|            null|                       1|             null|          null|       2|          null|       null|         null|      null|     2|                null|         null|              null|                   2|                  null|    null|           null|        null|  null|            null|      null|           null|             null|               1|               null|                     null|         null|           null|                        null|                 null|       null|     null|     null|        null|               null|    null|        null|         null|     null|\n",
            "|          Jordan|              null|          null|        null|            null|                    null|             null|          null|       2|          null|       null|         null|      null|     5|                null|            1|                 1|                   6|                  null|    null|           null|        null|  null|            null|      null|           null|             null|            null|               null|                     null|         null|           null|                        null|                 null|       null|     null|     null|        null|               null|    null|        null|         null|        2|\n",
            "|           Sudan|              null|          null|        null|            null|                    null|             null|          null|    null|          null|       null|         null|      null|     1|                null|         null|              null|                null|                  null|    null|           null|        null|  null|            null|      null|           null|             null|            null|               null|                     null|         null|           null|                        null|                 null|       null|     null|     null|        null|               null|    null|        null|         null|     null|\n",
            "|          France|                37|          null|        null|            null|                      23|             null|             6|      50|             3|          2|           26|      null|   166|                   3|           10|                73|                 190|                     5|       3|           null|           1|     1|               7|      null|             22|             null|              10|               null|                     null|            8|              5|                           1|                    2|          3|        3|     null|        null|               null|    null|        null|         null|       44|\n",
            "|          Greece|                 2|          null|        null|               1|                    null|             null|          null|       1|          null|       null|         null|         1|     3|                null|         null|                 2|                   1|                     1|    null|           null|        null|  null|            null|      null|              1|             null|               1|               null|                     null|         null|           null|                        null|                 null|       null|     null|     null|        null|               null|    null|        null|         null|     null|\n",
            "|       Sri Lanka|              null|          null|        null|            null|                    null|             null|          null|    null|          null|       null|            1|      null|  null|                null|         null|              null|                   1|                  null|    null|           null|        null|  null|            null|      null|           null|             null|            null|               null|                     null|         null|           null|                        null|                 null|       null|     null|     null|        null|               null|    null|        null|         null|     null|\n",
            "|          Taiwan|                 3|          null|        null|            null|                    null|             null|          null|       2|             3|       null|            1|      null|    10|                null|            3|                 3|                  16|                     8|    null|           null|           1|  null|               2|      null|              2|                2|            null|               null|                     null|            1|           null|                        null|                    1|          1|        5|        1|           2|               null|    null|           1|         null|        3|\n",
            "|         Algeria|              null|          null|        null|            null|                    null|             null|             1|    null|          null|       null|         null|      null|     3|                null|         null|                 1|                   3|                  null|    null|           null|        null|  null|            null|      null|           null|             null|            null|               null|                     null|         null|           null|                        null|                 null|       null|     null|     null|        null|               null|    null|        null|         null|     null|\n",
            "+----------------+------------------+--------------+------------+----------------+------------------------+-----------------+--------------+--------+--------------+-----------+-------------+----------+------+--------------------+-------------+------------------+--------------------+----------------------+--------+---------------+------------+------+----------------+----------+---------------+-----------------+----------------+-------------------+-------------------------+-------------+---------------+----------------------------+---------------------+-----------+---------+---------+------------+-------------------+--------+------------+-------------+---------+\n",
            "only showing top 20 rows\n",
            "\n"
          ]
        }
      ]
    },
    {
      "cell_type": "code",
      "source": [],
      "metadata": {
        "id": "p2A6vUc3nLjU"
      },
      "execution_count": null,
      "outputs": []
    }
  ]
}