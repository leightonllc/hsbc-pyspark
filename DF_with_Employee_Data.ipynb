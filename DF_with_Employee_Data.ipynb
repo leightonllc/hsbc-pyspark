{
  "nbformat": 4,
  "nbformat_minor": 0,
  "metadata": {
    "colab": {
      "provenance": []
    },
    "kernelspec": {
      "name": "python3",
      "display_name": "Python 3"
    },
    "language_info": {
      "name": "python"
    }
  },
  "cells": [
    {
      "cell_type": "code",
      "execution_count": null,
      "metadata": {
        "id": "vAmHXCa5gMoX",
        "colab": {
          "base_uri": "https://localhost:8080/"
        },
        "outputId": "80f009d9-4b78-4885-af0b-fe4e64624cbb"
      },
      "outputs": [
        {
          "output_type": "stream",
          "name": "stdout",
          "text": [
            "Collecting pyspark\n",
            "  Downloading pyspark-3.4.1.tar.gz (310.8 MB)\n",
            "\u001b[2K     \u001b[90m━━━━━━━━━━━━━━━━━━━━━━━━━━━━━━━━━━━━━━━\u001b[0m \u001b[32m310.8/310.8 MB\u001b[0m \u001b[31m4.5 MB/s\u001b[0m eta \u001b[36m0:00:00\u001b[0m\n",
            "\u001b[?25h  Preparing metadata (setup.py) ... \u001b[?25l\u001b[?25hdone\n",
            "Requirement already satisfied: py4j==0.10.9.7 in /usr/local/lib/python3.10/dist-packages (from pyspark) (0.10.9.7)\n",
            "Building wheels for collected packages: pyspark\n",
            "  Building wheel for pyspark (setup.py) ... \u001b[?25l\u001b[?25hdone\n",
            "  Created wheel for pyspark: filename=pyspark-3.4.1-py2.py3-none-any.whl size=311285388 sha256=759a7dd5d260efdd1c2cf2b6de307c7e574f3ff9ada8425719dbd00ed90e523b\n",
            "  Stored in directory: /root/.cache/pip/wheels/0d/77/a3/ff2f74cc9ab41f8f594dabf0579c2a7c6de920d584206e0834\n",
            "Successfully built pyspark\n",
            "Installing collected packages: pyspark\n",
            "Successfully installed pyspark-3.4.1\n",
            "--2023-08-22 06:06:19--  https://tinyurl.com/pyspark-employee-csv\n",
            "Resolving tinyurl.com (tinyurl.com)... 104.20.138.65, 104.20.139.65, 172.67.1.225, ...\n",
            "Connecting to tinyurl.com (tinyurl.com)|104.20.138.65|:443... connected.\n",
            "HTTP request sent, awaiting response... 301 Moved Permanently\n",
            "Location: https://raw.githubusercontent.com/justincheu-ng/misc/master/employee_data.csv [following]\n",
            "--2023-08-22 06:06:19--  https://raw.githubusercontent.com/justincheu-ng/misc/master/employee_data.csv\n",
            "Resolving raw.githubusercontent.com (raw.githubusercontent.com)... 185.199.108.133, 185.199.109.133, 185.199.110.133, ...\n",
            "Connecting to raw.githubusercontent.com (raw.githubusercontent.com)|185.199.108.133|:443... connected.\n",
            "HTTP request sent, awaiting response... 200 OK\n",
            "Length: 779998 (762K) [text/plain]\n",
            "Saving to: ‘employee.csv’\n",
            "\n",
            "employee.csv        100%[===================>] 761.72K  --.-KB/s    in 0.006s  \n",
            "\n",
            "2023-08-22 06:06:19 (114 MB/s) - ‘employee.csv’ saved [779998/779998]\n",
            "\n"
          ]
        }
      ],
      "source": [
        "!pip install pyspark\n",
        "\n",
        "from pyspark.sql import SparkSession\n",
        "\n",
        "spark = (\n",
        "    SparkSession\n",
        "    .builder\n",
        "    .master('local[*]')\n",
        "    .appName('myapp')\n",
        "    .getOrCreate()\n",
        ")\n",
        "\n",
        "!wget https://tinyurl.com/pyspark-employee-csv -O employee.csv"
      ]
    },
    {
      "cell_type": "code",
      "source": [
        "df = spark.read.csv('employee.csv')\n",
        "df.show()"
      ],
      "metadata": {
        "id": "nHh_L6Z5gRsz"
      },
      "execution_count": null,
      "outputs": []
    },
    {
      "cell_type": "code",
      "source": [
        "df = spark.read.csv(\n",
        "    'employee.csv',\n",
        "    header=True,\n",
        "    inferSchema=True\n",
        ")\n",
        "df.printSchema()"
      ],
      "metadata": {
        "colab": {
          "base_uri": "https://localhost:8080/"
        },
        "id": "3ThF3hbs2556",
        "outputId": "559a5d93-523c-4ffb-d728-ca85569dd977"
      },
      "execution_count": null,
      "outputs": [
        {
          "output_type": "stream",
          "name": "stdout",
          "text": [
            "root\n",
            " |-- EmpID: integer (nullable = true)\n",
            " |-- FirstName: string (nullable = true)\n",
            " |-- LastName: string (nullable = true)\n",
            " |-- StartDate: string (nullable = true)\n",
            " |-- ExitDate: string (nullable = true)\n",
            " |-- Title: string (nullable = true)\n",
            " |-- Supervisor: string (nullable = true)\n",
            " |-- ADEmail: string (nullable = true)\n",
            " |-- BusinessUnit: string (nullable = true)\n",
            " |-- EmployeeStatus: string (nullable = true)\n",
            " |-- EmployeeType: string (nullable = true)\n",
            " |-- PayZone: string (nullable = true)\n",
            " |-- EmployeeClassificationType: string (nullable = true)\n",
            " |-- TerminationType: string (nullable = true)\n",
            " |-- TerminationDescription: string (nullable = true)\n",
            " |-- DepartmentType: string (nullable = true)\n",
            " |-- Division: string (nullable = true)\n",
            " |-- DOB: string (nullable = true)\n",
            " |-- State: string (nullable = true)\n",
            " |-- JobFunctionDescription: string (nullable = true)\n",
            " |-- GenderCode: string (nullable = true)\n",
            " |-- LocationCode: integer (nullable = true)\n",
            " |-- RaceDesc: string (nullable = true)\n",
            " |-- MaritalDesc: string (nullable = true)\n",
            " |-- Performance Score: string (nullable = true)\n",
            " |-- Current Employee Rating: integer (nullable = true)\n",
            "\n"
          ]
        }
      ]
    },
    {
      "cell_type": "code",
      "source": [
        "df.printSchema()"
      ],
      "metadata": {
        "colab": {
          "base_uri": "https://localhost:8080/"
        },
        "id": "yGkqJDIV2u16",
        "outputId": "c6cddd9f-a949-4186-d48b-1cce66cf7dd8"
      },
      "execution_count": null,
      "outputs": [
        {
          "output_type": "stream",
          "name": "stdout",
          "text": [
            "root\n",
            " |-- EmpID: string (nullable = true)\n",
            " |-- FirstName: string (nullable = true)\n",
            " |-- LastName: string (nullable = true)\n",
            " |-- StartDate: string (nullable = true)\n",
            " |-- ExitDate: string (nullable = true)\n",
            " |-- Title: string (nullable = true)\n",
            " |-- Supervisor: string (nullable = true)\n",
            " |-- ADEmail: string (nullable = true)\n",
            " |-- BusinessUnit: string (nullable = true)\n",
            " |-- EmployeeStatus: string (nullable = true)\n",
            " |-- EmployeeType: string (nullable = true)\n",
            " |-- PayZone: string (nullable = true)\n",
            " |-- EmployeeClassificationType: string (nullable = true)\n",
            " |-- TerminationType: string (nullable = true)\n",
            " |-- TerminationDescription: string (nullable = true)\n",
            " |-- DepartmentType: string (nullable = true)\n",
            " |-- Division: string (nullable = true)\n",
            " |-- DOB: string (nullable = true)\n",
            " |-- State: string (nullable = true)\n",
            " |-- JobFunctionDescription: string (nullable = true)\n",
            " |-- GenderCode: string (nullable = true)\n",
            " |-- LocationCode: string (nullable = true)\n",
            " |-- RaceDesc: string (nullable = true)\n",
            " |-- MaritalDesc: string (nullable = true)\n",
            " |-- Performance Score: string (nullable = true)\n",
            " |-- Current Employee Rating: string (nullable = true)\n",
            "\n"
          ]
        }
      ]
    },
    {
      "cell_type": "code",
      "source": [
        "df.select('*').show()"
      ],
      "metadata": {
        "colab": {
          "base_uri": "https://localhost:8080/"
        },
        "id": "Qpyp62_x3GiI",
        "outputId": "fc1a2b02-412e-48d5-f1cb-566def5a4383"
      },
      "execution_count": null,
      "outputs": [
        {
          "output_type": "stream",
          "name": "stdout",
          "text": [
            "+-----+-----------+--------+---------+---------+--------------------+-----------------+--------------------+------------+--------------+------------+-------+--------------------------+---------------+----------------------+-----------------+--------------------+----------+-----+----------------------+----------+------------+--------+-----------+-----------------+-----------------------+\n",
            "|EmpID|  FirstName|LastName|StartDate| ExitDate|               Title|       Supervisor|             ADEmail|BusinessUnit|EmployeeStatus|EmployeeType|PayZone|EmployeeClassificationType|TerminationType|TerminationDescription|   DepartmentType|            Division|       DOB|State|JobFunctionDescription|GenderCode|LocationCode|RaceDesc|MaritalDesc|Performance Score|Current Employee Rating|\n",
            "+-----+-----------+--------+---------+---------+--------------------+-----------------+--------------------+------------+--------------+------------+-------+--------------------------+---------------+----------------------+-----------------+--------------------+----------+-----+----------------------+----------+------------+--------+-----------+-----------------+-----------------------+\n",
            "| 3427|      Uriah| Bridges|20-Sep-19|     null|Production Techni...|     Peter Oneill|uriah.bridges@bil...|        CCDR|        Active|    Contract| Zone C|                 Temporary|            Unk|                  null|Production       |Finance & Accounting|07-10-1969|   MA|            Accounting|    Female|       34904|   White|    Widowed|      Fully Meets|                      4|\n",
            "| 3428|      Paula|   Small|11-Feb-23|     null|Production Techni...|  Renee Mccormick|paula.small@bilea...|          EW|        Active|    Contract| Zone A|                 Part-Time|            Unk|                  null|Production       |              Aerial|30-08-1965|   MA|                 Labor|      Male|        6593|Hispanic|    Widowed|      Fully Meets|                      3|\n",
            "| 3429|     Edward|    Buck|10-Dec-18|     null|  Area Sales Manager|   Crystal Walker|edward.buck@bilea...|          PL|        Active|   Full-Time| Zone B|                 Part-Time|            Unk|                  null|            Sales|       General - Sga|06-10-1991|   MA|             Assistant|      Male|        2330|Hispanic|    Widowed|      Fully Meets|                      4|\n",
            "| 3430|    Michael| Riordan|21-Jun-21|     null|  Area Sales Manager|   Rebekah Wright|michael.riordan@b...|        CCDR|        Active|    Contract| Zone A|                 Full-Time|            Unk|                  null|            Sales|Finance & Accounting|04-04-1998|   ND|                 Clerk|      Male|       58782|   Other|     Single|      Fully Meets|                      2|\n",
            "| 3431|    Jasmine|   Onque|29-Jun-19|     null|  Area Sales Manager|        Jason Kim|jasmine.onque@bil...|         TNS|        Active|    Contract| Zone A|                 Temporary|            Unk|                  null|            Sales|       General - Con|29-08-1969|   FL|               Laborer|    Female|       33174|   Other|    Married|      Fully Meets|                      3|\n",
            "| 3432|      Maruk|  Fraval|17-Jan-20|     null|  Area Sales Manager|     Sheri Campos|maruk.fraval@bile...|         BPC|        Active|    Contract| Zone B|                 Full-Time|            Unk|                  null|            Sales|    Field Operations|03-04-1949|   CT|                Driver|      Male|        6050|   Black|    Married|      Fully Meets|                      3|\n",
            "| 3433|      Latia|   Costa|06-Apr-22|03-Jul-23|  Area Sales Manager|      Jacob Braun|latia.costa@bilea...|         WBL|        Active|   Full-Time| Zone B|                 Temporary|    Involuntary|  Me see picture na...|            Sales|       General - Eng|01-07-1942|   CA|            Technician|    Female|       90007|Hispanic|   Divorced|          Exceeds|                      4|\n",
            "| 3434|   Sharlene|   Terry|06-Nov-20|29-Jan-23|  Area Sales Manager|    Tracy Marquez|sharlene.terry@bi...|        CCDR|        Active|    Contract| Zone C|                 Full-Time|    Involuntary|  Blue community ty...|            Sales|           Engineers|07-03-1957|   OR|              Engineer|    Female|       97756|   White|   Divorced|      Fully Meets|                      2|\n",
            "| 3435|        Jac|McKinzie|18-Aug-18|     null|  Area Sales Manager|    Sharon Becker|jac.mckinzie@bile...|         NEL|        Active|    Contract| Zone B|                 Part-Time|            Unk|                  null|            Sales|           Executive|15-05-1974|   TX|   Executive Assistant|      Male|       78789|   Black|    Widowed|          Exceeds|                      3|\n",
            "| 3436|     Joseph| Martins|21-Jan-22|29-Jun-23|  Area Sales Manager|   George Jenkins|joseph.martins@bi...|         BPC|        Active|   Part-Time| Zone B|                 Temporary|    Resignation|  Summer personal bag.|            Sales|           Engineers|11-11-1949|   TX|              Engineer|      Male|       78207|   Asian|    Widowed|      Fully Meets|                      5|\n",
            "| 3437|     Myriam|  Givens|04-Aug-23|     null|  Area Sales Manager|       Troy White|myriam.givens@bil...|         SVG|        Active|    Contract| Zone B|                 Temporary|            Unk|                  null|            Sales|    Field Operations|26-01-1964|   IN|            Technician|    Female|       46204|   Other|     Single|      Fully Meets|                      5|\n",
            "| 3438|     Dheepa|  Nguyen|10-Aug-18|04-Nov-19|  Area Sales Manager|     Brian Miller|dheepa.nguyen@bil...|         MSC|        Active|   Full-Time| Zone C|                 Temporary|     Retirement|  Alone once than. ...|            Sales|       General - Con|06-04-1948|   GA|            Technician|    Female|       30428|   Asian|    Married|      Fully Meets|                      3|\n",
            "| 3439|Bartholemew|Khemmich|25-May-22|27-Nov-22|  Area Sales Manager|    Charles Parks|bartholemew.khemm...|          EW|        Active|   Full-Time| Zone A|                 Temporary|    Involuntary|  Foot in theory mi...|            Sales|            Splicing|24-11-1981|   CO|               Splicer|      Male|       80820|   Other|     Single|      Fully Meets|                      3|\n",
            "| 3440|       Xana|   Potts|05-Dec-19|17-Feb-23|  Area Sales Manager|   Gregory Walker|xana.potts@bilear...|        CCDR|        Active|    Contract| Zone A|                 Full-Time|    Resignation|  Degree wish scien...|            Sales|Finance & Accounting|06-11-1951|   KY|            Controller|    Female|       40220|   White|   Divorced|      Fully Meets|                      3|\n",
            "| 3441|     Prater|  Jeremy|28-Apr-19|     null|  Area Sales Manager|      Tyler Lewis|prater.jeremy@bil...|         BPC|        Active|   Part-Time| Zone A|                 Part-Time|            Unk|                  null|            Sales|       General - Con|21-11-1989|   NV|               Lineman|      Male|       89139|   Asian|    Widowed|          Exceeds|                      4|\n",
            "| 3442|     Kaylah|    Moon|09-Jul-19|16-Jun-22|  Area Sales Manager|     Ashley Scott|kaylah.moon@bilea...|         PYZ|        Active|   Full-Time| Zone A|                 Full-Time|     Retirement|  Fear particular m...|            IT/IS|    Field Operations|24-11-1952|   MA|               Laborer|      Male|        2810|   Black|     Single|          Exceeds|                      2|\n",
            "| 3443|    Kristen|    Tate|05-Apr-21|12-May-23|  Area Sales Manager|     Lauren Jones|kristen.tate@bile...|         WBL|        Active|   Full-Time| Zone C|                 Part-Time|      Voluntary|  Wall body wonder ...|            IT/IS|Project Managemen...|08-04-1994|   KY|           Coordinator|      Male|        2621|   Asian|    Widowed|      Fully Meets|                      3|\n",
            "| 3444|      Bobby| Rodgers|28-Nov-21|04-Feb-22|  Area Sales Manager|  Matthew Jackson|bobby.rodgers@bil...|         NEL|        Active|    Contract| Zone A|                 Part-Time|      Voluntary|  Visit foot nearly...|            Sales|           Engineers|15-11-1983|   KY|              Director|      Male|       44553|   Other|    Widowed|      Fully Meets|                      3|\n",
            "| 3445|       Reid|    Park|16-Jan-21|     null|  Area Sales Manager|Michelle Mitchell|reid.park@bilearn...|          PL|        Active|    Contract| Zone C|                 Full-Time|            Unk|                  null|            Sales|Project Managemen...|07-12-1985|   KY|            Supervisor|    Female|        5360|   Other|    Married|          Exceeds|                      4|\n",
            "| 3446|     Hector|  Dalton|24-Aug-21|     null|  Area Sales Manager|    Sydney French|hector.dalton@bil...|         BPC|        Active|   Part-Time| Zone A|                 Part-Time|            Unk|                  null|            Sales|    Field Operations|01-05-1996|   TX|               Driller|    Female|       16325|   White|   Divorced|          Exceeds|                      2|\n",
            "+-----+-----------+--------+---------+---------+--------------------+-----------------+--------------------+------------+--------------+------------+-------+--------------------------+---------------+----------------------+-----------------+--------------------+----------+-----+----------------------+----------+------------+--------+-----------+-----------------+-----------------------+\n",
            "only showing top 20 rows\n",
            "\n"
          ]
        }
      ]
    },
    {
      "cell_type": "code",
      "source": [
        "df.select(['FirstName', 'LastName', 'GenderCode']).show()"
      ],
      "metadata": {
        "colab": {
          "base_uri": "https://localhost:8080/"
        },
        "id": "4umHBvwL3zaz",
        "outputId": "218a15ad-ba9d-49fa-c188-3324ba447b5b"
      },
      "execution_count": null,
      "outputs": [
        {
          "output_type": "stream",
          "name": "stdout",
          "text": [
            "+-----------+--------+----------+\n",
            "|  FirstName|LastName|GenderCode|\n",
            "+-----------+--------+----------+\n",
            "|      Uriah| Bridges|    Female|\n",
            "|      Paula|   Small|      Male|\n",
            "|     Edward|    Buck|      Male|\n",
            "|    Michael| Riordan|      Male|\n",
            "|    Jasmine|   Onque|    Female|\n",
            "|      Maruk|  Fraval|      Male|\n",
            "|      Latia|   Costa|    Female|\n",
            "|   Sharlene|   Terry|    Female|\n",
            "|        Jac|McKinzie|      Male|\n",
            "|     Joseph| Martins|      Male|\n",
            "|     Myriam|  Givens|    Female|\n",
            "|     Dheepa|  Nguyen|    Female|\n",
            "|Bartholemew|Khemmich|      Male|\n",
            "|       Xana|   Potts|    Female|\n",
            "|     Prater|  Jeremy|      Male|\n",
            "|     Kaylah|    Moon|      Male|\n",
            "|    Kristen|    Tate|      Male|\n",
            "|      Bobby| Rodgers|      Male|\n",
            "|       Reid|    Park|    Female|\n",
            "|     Hector|  Dalton|    Female|\n",
            "+-----------+--------+----------+\n",
            "only showing top 20 rows\n",
            "\n"
          ]
        }
      ]
    },
    {
      "cell_type": "code",
      "source": [
        "(df.select(['FirstName', 'LastName', 'GenderCode'])\n",
        "  #.filter(df['GenderCode'] == 'Female')\n",
        "  .where(df['GenderCode'] == 'Female')\n",
        "  .show()\n",
        ")"
      ],
      "metadata": {
        "colab": {
          "base_uri": "https://localhost:8080/"
        },
        "id": "uGMIwxES4EZf",
        "outputId": "b23cd006-741a-429e-b251-91ecbdc84fad"
      },
      "execution_count": null,
      "outputs": [
        {
          "output_type": "stream",
          "name": "stdout",
          "text": [
            "+---------+--------+----------+\n",
            "|FirstName|LastName|GenderCode|\n",
            "+---------+--------+----------+\n",
            "|    Uriah| Bridges|    Female|\n",
            "|  Jasmine|   Onque|    Female|\n",
            "|    Latia|   Costa|    Female|\n",
            "| Sharlene|   Terry|    Female|\n",
            "|   Myriam|  Givens|    Female|\n",
            "|   Dheepa|  Nguyen|    Female|\n",
            "|     Xana|   Potts|    Female|\n",
            "|     Reid|    Park|    Female|\n",
            "|   Hector|  Dalton|    Female|\n",
            "|  Mariela| Schultz|    Female|\n",
            "|     Axel|    Howe|    Female|\n",
            "|   Milton|    Wall|    Female|\n",
            "|     Cory|Robinson|    Female|\n",
            "|    Celia|  Curtis|    Female|\n",
            "| Valentin|  Reilly|    Female|\n",
            "|   Ryland|Shepherd|    Female|\n",
            "|  Esteban| Gilbert|    Female|\n",
            "|    Sonny|   Horne|    Female|\n",
            "|   Thomas|Chandler|    Female|\n",
            "|    Sarai|   Stone|    Female|\n",
            "+---------+--------+----------+\n",
            "only showing top 20 rows\n",
            "\n"
          ]
        }
      ]
    },
    {
      "cell_type": "code",
      "source": [
        "(\n",
        "    df.select(['FirstName', 'LastName', 'GenderCode', 'MaritalDesc'])\n",
        "      .where((df.GenderCode == 'Female') & (df.MaritalDesc == 'Single'))\n",
        "      .show()\n",
        ")"
      ],
      "metadata": {
        "colab": {
          "base_uri": "https://localhost:8080/"
        },
        "id": "Q5H6NEQS4h_j",
        "outputId": "d77eb4cc-4856-4e1d-fe7a-cb27761fb903"
      },
      "execution_count": null,
      "outputs": [
        {
          "output_type": "stream",
          "name": "stdout",
          "text": [
            "+---------+---------+----------+-----------+\n",
            "|FirstName| LastName|GenderCode|MaritalDesc|\n",
            "+---------+---------+----------+-----------+\n",
            "|   Myriam|   Givens|    Female|     Single|\n",
            "|     Cory| Robinson|    Female|     Single|\n",
            "| Valentin|   Reilly|    Female|     Single|\n",
            "|   Willie|Patterson|    Female|     Single|\n",
            "|   Tyrone|     Sosa|    Female|     Single|\n",
            "|  Marques|Armstrong|    Female|     Single|\n",
            "|    Rohan|  Chapman|    Female|     Single|\n",
            "|      Lee|     Frye|    Female|     Single|\n",
            "| Veronica|     Rowe|    Female|     Single|\n",
            "|    Aylin|     Berg|    Female|     Single|\n",
            "|    Rayne|     Kerr|    Female|     Single|\n",
            "|    Sanaa|    Glass|    Female|     Single|\n",
            "|  Mildred|   Gentry|    Female|     Single|\n",
            "|     Jean|Crimmings|    Female|     Single|\n",
            "|   Angela|   Erilus|    Female|     Single|\n",
            "|Jaqueline|  Terrell|    Female|     Single|\n",
            "|  Brenton|   Monroe|    Female|     Single|\n",
            "|   Marely|    Dixon|    Female|     Single|\n",
            "|   Kayley|    Myers|    Female|     Single|\n",
            "|  Gabriel|   Dodson|    Female|     Single|\n",
            "+---------+---------+----------+-----------+\n",
            "only showing top 20 rows\n",
            "\n"
          ]
        }
      ]
    },
    {
      "cell_type": "code",
      "source": [
        "(\n",
        "    df.select(['FirstName', 'LastName', 'GenderCode', 'MaritalDesc'])\n",
        "      .where((df.GenderCode == 'Female') | ~(df.MaritalDesc == 'Single'))\n",
        "      .show()\n",
        ")"
      ],
      "metadata": {
        "colab": {
          "base_uri": "https://localhost:8080/"
        },
        "id": "JXe5K9HX49ym",
        "outputId": "116e6d08-ce93-41d0-c2d2-b529d5654586"
      },
      "execution_count": null,
      "outputs": [
        {
          "output_type": "stream",
          "name": "stdout",
          "text": [
            "+---------+--------+----------+-----------+\n",
            "|FirstName|LastName|GenderCode|MaritalDesc|\n",
            "+---------+--------+----------+-----------+\n",
            "|    Uriah| Bridges|    Female|    Widowed|\n",
            "|  Jasmine|   Onque|    Female|    Married|\n",
            "|    Latia|   Costa|    Female|   Divorced|\n",
            "| Sharlene|   Terry|    Female|   Divorced|\n",
            "|   Dheepa|  Nguyen|    Female|    Married|\n",
            "|     Xana|   Potts|    Female|   Divorced|\n",
            "|     Reid|    Park|    Female|    Married|\n",
            "|   Hector|  Dalton|    Female|   Divorced|\n",
            "|  Mariela| Schultz|    Female|    Widowed|\n",
            "|     Axel|    Howe|    Female|   Divorced|\n",
            "|   Milton|    Wall|    Female|   Divorced|\n",
            "|    Celia|  Curtis|    Female|   Divorced|\n",
            "|   Ryland|Shepherd|    Female|   Divorced|\n",
            "|  Esteban| Gilbert|    Female|    Married|\n",
            "|    Sonny|   Horne|    Female|    Widowed|\n",
            "|   Thomas|Chandler|    Female|    Married|\n",
            "|    Sarai|   Stone|    Female|    Widowed|\n",
            "| Jerimiah|  Harmon|    Female|    Widowed|\n",
            "|   Kimora| Parsons|    Female|   Divorced|\n",
            "|    Devyn|  Powers|    Female|   Divorced|\n",
            "+---------+--------+----------+-----------+\n",
            "only showing top 20 rows\n",
            "\n"
          ]
        }
      ]
    },
    {
      "cell_type": "code",
      "source": [
        "df.printSchema()"
      ],
      "metadata": {
        "colab": {
          "base_uri": "https://localhost:8080/"
        },
        "id": "VUmWGoPV5_iY",
        "outputId": "190eceb6-4378-4ee0-bbb5-035a335e15ca"
      },
      "execution_count": null,
      "outputs": [
        {
          "output_type": "stream",
          "name": "stdout",
          "text": [
            "root\n",
            " |-- EmpID: integer (nullable = true)\n",
            " |-- FirstName: string (nullable = true)\n",
            " |-- LastName: string (nullable = true)\n",
            " |-- StartDate: string (nullable = true)\n",
            " |-- ExitDate: string (nullable = true)\n",
            " |-- Title: string (nullable = true)\n",
            " |-- Supervisor: string (nullable = true)\n",
            " |-- ADEmail: string (nullable = true)\n",
            " |-- BusinessUnit: string (nullable = true)\n",
            " |-- EmployeeStatus: string (nullable = true)\n",
            " |-- EmployeeType: string (nullable = true)\n",
            " |-- PayZone: string (nullable = true)\n",
            " |-- EmployeeClassificationType: string (nullable = true)\n",
            " |-- TerminationType: string (nullable = true)\n",
            " |-- TerminationDescription: string (nullable = true)\n",
            " |-- DepartmentType: string (nullable = true)\n",
            " |-- Division: string (nullable = true)\n",
            " |-- DOB: string (nullable = true)\n",
            " |-- State: string (nullable = true)\n",
            " |-- JobFunctionDescription: string (nullable = true)\n",
            " |-- GenderCode: string (nullable = true)\n",
            " |-- LocationCode: integer (nullable = true)\n",
            " |-- RaceDesc: string (nullable = true)\n",
            " |-- MaritalDesc: string (nullable = true)\n",
            " |-- Performance Score: string (nullable = true)\n",
            " |-- Current Employee Rating: integer (nullable = true)\n",
            "\n"
          ]
        }
      ]
    },
    {
      "cell_type": "code",
      "source": [
        "df.select('Current Employee Rating').describe().show()"
      ],
      "metadata": {
        "colab": {
          "base_uri": "https://localhost:8080/"
        },
        "id": "gDUjui8v8m-K",
        "outputId": "b48774b1-5f47-472e-8cac-961bff55303f"
      },
      "execution_count": null,
      "outputs": [
        {
          "output_type": "stream",
          "name": "stdout",
          "text": [
            "+-------+-----------------------+\n",
            "|summary|Current Employee Rating|\n",
            "+-------+-----------------------+\n",
            "|  count|                   3000|\n",
            "|   mean|                  2.969|\n",
            "| stddev|     1.0150775639429104|\n",
            "|    min|                      1|\n",
            "|    max|                      5|\n",
            "+-------+-----------------------+\n",
            "\n"
          ]
        }
      ]
    },
    {
      "cell_type": "code",
      "source": [
        "df = df.withColumn('Rating out of 10', df['Current Employee Rating'] * 2)\n",
        "df.select(['Current Employee Rating', 'Rating out of 10']).show()\n",
        "\n",
        "# In Panda:\n",
        "# df['Rating out of 10'] = df['Current Employee Rating'] * 2"
      ],
      "metadata": {
        "colab": {
          "base_uri": "https://localhost:8080/"
        },
        "id": "ES5m0aU38vRC",
        "outputId": "0dcfa253-36ea-4346-d052-e3f1a4993338"
      },
      "execution_count": null,
      "outputs": [
        {
          "output_type": "stream",
          "name": "stdout",
          "text": [
            "+-----------------------+----------------+\n",
            "|Current Employee Rating|Rating out of 10|\n",
            "+-----------------------+----------------+\n",
            "|                      4|               8|\n",
            "|                      3|               6|\n",
            "|                      4|               8|\n",
            "|                      2|               4|\n",
            "|                      3|               6|\n",
            "|                      3|               6|\n",
            "|                      4|               8|\n",
            "|                      2|               4|\n",
            "|                      3|               6|\n",
            "|                      5|              10|\n",
            "|                      5|              10|\n",
            "|                      3|               6|\n",
            "|                      3|               6|\n",
            "|                      3|               6|\n",
            "|                      4|               8|\n",
            "|                      2|               4|\n",
            "|                      3|               6|\n",
            "|                      3|               6|\n",
            "|                      4|               8|\n",
            "|                      2|               4|\n",
            "+-----------------------+----------------+\n",
            "only showing top 20 rows\n",
            "\n"
          ]
        }
      ]
    },
    {
      "cell_type": "code",
      "source": [
        "#df = df.drop('Current Employee Rating')\n",
        "#df = df.withColumnRenamed('Rating out of 10', 'Current Employee Rating')\n",
        "df.select(['FirstName', 'Current Employee Rating']).show()"
      ],
      "metadata": {
        "colab": {
          "base_uri": "https://localhost:8080/",
          "height": 1000
        },
        "id": "3njnTZfB8_Ue",
        "outputId": "df5ed033-ff95-4c46-9d5a-32c7c6a787bd"
      },
      "execution_count": null,
      "outputs": [
        {
          "output_type": "error",
          "ename": "AnalysisException",
          "evalue": "ignored",
          "traceback": [
            "\u001b[0;31m---------------------------------------------------------------------------\u001b[0m",
            "\u001b[0;31mAnalysisException\u001b[0m                         Traceback (most recent call last)",
            "\u001b[0;32m<ipython-input-23-0f84714ad6e8>\u001b[0m in \u001b[0;36m<cell line: 3>\u001b[0;34m()\u001b[0m\n\u001b[1;32m      1\u001b[0m \u001b[0;31m#df = df.drop('Current Employee Rating')\u001b[0m\u001b[0;34m\u001b[0m\u001b[0;34m\u001b[0m\u001b[0m\n\u001b[1;32m      2\u001b[0m \u001b[0;31m#df = df.withColumnRenamed('Rating out of 10', 'Current Employee Rating')\u001b[0m\u001b[0;34m\u001b[0m\u001b[0;34m\u001b[0m\u001b[0m\n\u001b[0;32m----> 3\u001b[0;31m \u001b[0mdf\u001b[0m\u001b[0;34m.\u001b[0m\u001b[0mselect\u001b[0m\u001b[0;34m(\u001b[0m\u001b[0;34m[\u001b[0m\u001b[0;34m'FirstName'\u001b[0m\u001b[0;34m,\u001b[0m \u001b[0;34m'Current Employee Rating'\u001b[0m\u001b[0;34m]\u001b[0m\u001b[0;34m)\u001b[0m\u001b[0;34m.\u001b[0m\u001b[0mshow\u001b[0m\u001b[0;34m(\u001b[0m\u001b[0;34m)\u001b[0m\u001b[0;34m\u001b[0m\u001b[0;34m\u001b[0m\u001b[0m\n\u001b[0m",
            "\u001b[0;32m/usr/local/lib/python3.10/dist-packages/pyspark/sql/dataframe.py\u001b[0m in \u001b[0;36mselect\u001b[0;34m(self, *cols)\u001b[0m\n\u001b[1;32m   3034\u001b[0m         \u001b[0;34m+\u001b[0m\u001b[0;34m-\u001b[0m\u001b[0;34m-\u001b[0m\u001b[0;34m-\u001b[0m\u001b[0;34m-\u001b[0m\u001b[0;34m-\u001b[0m\u001b[0;34m+\u001b[0m\u001b[0;34m-\u001b[0m\u001b[0;34m-\u001b[0m\u001b[0;34m-\u001b[0m\u001b[0;34m+\u001b[0m\u001b[0;34m\u001b[0m\u001b[0;34m\u001b[0m\u001b[0m\n\u001b[1;32m   3035\u001b[0m         \"\"\"\n\u001b[0;32m-> 3036\u001b[0;31m         \u001b[0mjdf\u001b[0m \u001b[0;34m=\u001b[0m \u001b[0mself\u001b[0m\u001b[0;34m.\u001b[0m\u001b[0m_jdf\u001b[0m\u001b[0;34m.\u001b[0m\u001b[0mselect\u001b[0m\u001b[0;34m(\u001b[0m\u001b[0mself\u001b[0m\u001b[0;34m.\u001b[0m\u001b[0m_jcols\u001b[0m\u001b[0;34m(\u001b[0m\u001b[0;34m*\u001b[0m\u001b[0mcols\u001b[0m\u001b[0;34m)\u001b[0m\u001b[0;34m)\u001b[0m\u001b[0;34m\u001b[0m\u001b[0;34m\u001b[0m\u001b[0m\n\u001b[0m\u001b[1;32m   3037\u001b[0m         \u001b[0;32mreturn\u001b[0m \u001b[0mDataFrame\u001b[0m\u001b[0;34m(\u001b[0m\u001b[0mjdf\u001b[0m\u001b[0;34m,\u001b[0m \u001b[0mself\u001b[0m\u001b[0;34m.\u001b[0m\u001b[0msparkSession\u001b[0m\u001b[0;34m)\u001b[0m\u001b[0;34m\u001b[0m\u001b[0;34m\u001b[0m\u001b[0m\n\u001b[1;32m   3038\u001b[0m \u001b[0;34m\u001b[0m\u001b[0m\n",
            "\u001b[0;32m/usr/local/lib/python3.10/dist-packages/py4j/java_gateway.py\u001b[0m in \u001b[0;36m__call__\u001b[0;34m(self, *args)\u001b[0m\n\u001b[1;32m   1320\u001b[0m \u001b[0;34m\u001b[0m\u001b[0m\n\u001b[1;32m   1321\u001b[0m         \u001b[0manswer\u001b[0m \u001b[0;34m=\u001b[0m \u001b[0mself\u001b[0m\u001b[0;34m.\u001b[0m\u001b[0mgateway_client\u001b[0m\u001b[0;34m.\u001b[0m\u001b[0msend_command\u001b[0m\u001b[0;34m(\u001b[0m\u001b[0mcommand\u001b[0m\u001b[0;34m)\u001b[0m\u001b[0;34m\u001b[0m\u001b[0;34m\u001b[0m\u001b[0m\n\u001b[0;32m-> 1322\u001b[0;31m         return_value = get_return_value(\n\u001b[0m\u001b[1;32m   1323\u001b[0m             answer, self.gateway_client, self.target_id, self.name)\n\u001b[1;32m   1324\u001b[0m \u001b[0;34m\u001b[0m\u001b[0m\n",
            "\u001b[0;32m/usr/local/lib/python3.10/dist-packages/pyspark/errors/exceptions/captured.py\u001b[0m in \u001b[0;36mdeco\u001b[0;34m(*a, **kw)\u001b[0m\n\u001b[1;32m    173\u001b[0m                 \u001b[0;31m# Hide where the exception came from that shows a non-Pythonic\u001b[0m\u001b[0;34m\u001b[0m\u001b[0;34m\u001b[0m\u001b[0m\n\u001b[1;32m    174\u001b[0m                 \u001b[0;31m# JVM exception message.\u001b[0m\u001b[0;34m\u001b[0m\u001b[0;34m\u001b[0m\u001b[0m\n\u001b[0;32m--> 175\u001b[0;31m                 \u001b[0;32mraise\u001b[0m \u001b[0mconverted\u001b[0m \u001b[0;32mfrom\u001b[0m \u001b[0;32mNone\u001b[0m\u001b[0;34m\u001b[0m\u001b[0;34m\u001b[0m\u001b[0m\n\u001b[0m\u001b[1;32m    176\u001b[0m             \u001b[0;32melse\u001b[0m\u001b[0;34m:\u001b[0m\u001b[0;34m\u001b[0m\u001b[0;34m\u001b[0m\u001b[0m\n\u001b[1;32m    177\u001b[0m                 \u001b[0;32mraise\u001b[0m\u001b[0;34m\u001b[0m\u001b[0;34m\u001b[0m\u001b[0m\n",
            "\u001b[0;31mAnalysisException\u001b[0m: [UNRESOLVED_COLUMN.WITH_SUGGESTION] A column or function parameter with name `Current Employee Rating` cannot be resolved. Did you mean one of the following? [`EmployeeStatus`, `EmployeeType`, `Performance Score`, `DepartmentType`, `ADEmail`].;\n'Project [FirstName#621, 'Current Employee Rating]\n+- Project [EmpID#620, FirstName#621, LastName#622, StartDate#623, ExitDate#624, Title#625, Supervisor#626, ADEmail#627, BusinessUnit#628, EmployeeStatus#629, EmployeeType#630, PayZone#631, EmployeeClassificationType#632, TerminationType#633, TerminationDescription#634, DepartmentType#635, Division#636, DOB#637, State#638, JobFunctionDescription#639, GenderCode#640, LocationCode#641, RaceDesc#642, MaritalDesc#643, Performance Score#644]\n   +- Project [EmpID#620, FirstName#621, LastName#622, StartDate#623, ExitDate#624, Title#625, Supervisor#626, ADEmail#627, BusinessUnit#628, EmployeeStatus#629, EmployeeType#630, PayZone#631, EmployeeClassificationType#632, TerminationType#633, TerminationDescription#634, DepartmentType#635, Division#636, DOB#637, State#638, JobFunctionDescription#639, GenderCode#640, LocationCode#641, RaceDesc#642, MaritalDesc#643, ... 2 more fields]\n      +- Project [EmpID#620, FirstName#621, LastName#622, StartDate#623, ExitDate#624, Title#625, Supervisor#626, ADEmail#627, BusinessUnit#628, EmployeeStatus#629, EmployeeType#630, PayZone#631, EmployeeClassificationType#632, TerminationType#633, TerminationDescription#634, DepartmentType#635, Division#636, DOB#637, State#638, JobFunctionDescription#639, GenderCode#640, LocationCode#641, RaceDesc#642, MaritalDesc#643, ... 2 more fields]\n         +- Project [EmpID#620, FirstName#621, LastName#622, StartDate#623, ExitDate#624, Title#625, Supervisor#626, ADEmail#627, BusinessUnit#628, EmployeeStatus#629, EmployeeType#630, PayZone#631, EmployeeClassificationType#632, TerminationType#633, TerminationDescription#634, DepartmentType#635, Division#636, DOB#637, State#638, JobFunctionDescription#639, GenderCode#640, LocationCode#641, RaceDesc#642, MaritalDesc#643, ... 3 more fields]\n            +- Relation [EmpID#620,FirstName#621,LastName#622,StartDate#623,ExitDate#624,Title#625,Supervisor#626,ADEmail#627,BusinessUnit#628,EmployeeStatus#629,EmployeeType#630,PayZone#631,EmployeeClassificationType#632,TerminationType#633,TerminationDescription#634,DepartmentType#635,Division#636,DOB#637,State#638,JobFunctionDescription#639,GenderCode#640,LocationCode#641,RaceDesc#642,MaritalDesc#643,... 2 more fields] csv\n"
          ]
        }
      ]
    },
    {
      "cell_type": "code",
      "source": [
        "df = df.withColumn('Name', df.FirstName + ' ' + df.LastName)\n",
        "df.select('FirstName', 'LastName', 'Name').show()"
      ],
      "metadata": {
        "colab": {
          "base_uri": "https://localhost:8080/"
        },
        "id": "3Vfme9Aj99U6",
        "outputId": "ed6d3323-da35-448d-cc46-cd2859400589"
      },
      "execution_count": null,
      "outputs": [
        {
          "output_type": "stream",
          "name": "stdout",
          "text": [
            "+-----------+--------+----+\n",
            "|  FirstName|LastName|Name|\n",
            "+-----------+--------+----+\n",
            "|      Uriah| Bridges|null|\n",
            "|      Paula|   Small|null|\n",
            "|     Edward|    Buck|null|\n",
            "|    Michael| Riordan|null|\n",
            "|    Jasmine|   Onque|null|\n",
            "|      Maruk|  Fraval|null|\n",
            "|      Latia|   Costa|null|\n",
            "|   Sharlene|   Terry|null|\n",
            "|        Jac|McKinzie|null|\n",
            "|     Joseph| Martins|null|\n",
            "|     Myriam|  Givens|null|\n",
            "|     Dheepa|  Nguyen|null|\n",
            "|Bartholemew|Khemmich|null|\n",
            "|       Xana|   Potts|null|\n",
            "|     Prater|  Jeremy|null|\n",
            "|     Kaylah|    Moon|null|\n",
            "|    Kristen|    Tate|null|\n",
            "|      Bobby| Rodgers|null|\n",
            "|       Reid|    Park|null|\n",
            "|     Hector|  Dalton|null|\n",
            "+-----------+--------+----+\n",
            "only showing top 20 rows\n",
            "\n"
          ]
        }
      ]
    },
    {
      "cell_type": "code",
      "source": [
        "from pyspark.sql import functions as F\n",
        "\n",
        "# F.expr()\n",
        "df = df.withColumn('Name', F.expr('CONCAT(FirstName, \" \", LastName)'))\n",
        "df.select(['FirstName', 'LastName', 'Name']).show()"
      ],
      "metadata": {
        "colab": {
          "base_uri": "https://localhost:8080/"
        },
        "id": "j2RIiLKb-wd-",
        "outputId": "ba3437d0-018a-4b31-dc6b-4980bf774768"
      },
      "execution_count": null,
      "outputs": [
        {
          "output_type": "stream",
          "name": "stdout",
          "text": [
            "+-----------+--------+--------------------+\n",
            "|  FirstName|LastName|                Name|\n",
            "+-----------+--------+--------------------+\n",
            "|      Uriah| Bridges|       Uriah Bridges|\n",
            "|      Paula|   Small|         Paula Small|\n",
            "|     Edward|    Buck|         Edward Buck|\n",
            "|    Michael| Riordan|     Michael Riordan|\n",
            "|    Jasmine|   Onque|       Jasmine Onque|\n",
            "|      Maruk|  Fraval|        Maruk Fraval|\n",
            "|      Latia|   Costa|         Latia Costa|\n",
            "|   Sharlene|   Terry|      Sharlene Terry|\n",
            "|        Jac|McKinzie|        Jac McKinzie|\n",
            "|     Joseph| Martins|      Joseph Martins|\n",
            "|     Myriam|  Givens|       Myriam Givens|\n",
            "|     Dheepa|  Nguyen|       Dheepa Nguyen|\n",
            "|Bartholemew|Khemmich|Bartholemew Khemmich|\n",
            "|       Xana|   Potts|          Xana Potts|\n",
            "|     Prater|  Jeremy|       Prater Jeremy|\n",
            "|     Kaylah|    Moon|         Kaylah Moon|\n",
            "|    Kristen|    Tate|        Kristen Tate|\n",
            "|      Bobby| Rodgers|       Bobby Rodgers|\n",
            "|       Reid|    Park|           Reid Park|\n",
            "|     Hector|  Dalton|       Hector Dalton|\n",
            "+-----------+--------+--------------------+\n",
            "only showing top 20 rows\n",
            "\n"
          ]
        }
      ]
    },
    {
      "cell_type": "code",
      "source": [
        "df.printSchema()"
      ],
      "metadata": {
        "colab": {
          "base_uri": "https://localhost:8080/"
        },
        "id": "j9PdwdcM_Wpy",
        "outputId": "bd412308-af1c-4e76-f1c5-6b555d178528"
      },
      "execution_count": null,
      "outputs": [
        {
          "output_type": "stream",
          "name": "stdout",
          "text": [
            "root\n",
            " |-- EmpID: integer (nullable = true)\n",
            " |-- FirstName: string (nullable = true)\n",
            " |-- LastName: string (nullable = true)\n",
            " |-- StartDate: string (nullable = true)\n",
            " |-- ExitDate: string (nullable = true)\n",
            " |-- Title: string (nullable = true)\n",
            " |-- Supervisor: string (nullable = true)\n",
            " |-- ADEmail: string (nullable = true)\n",
            " |-- BusinessUnit: string (nullable = true)\n",
            " |-- EmployeeStatus: string (nullable = true)\n",
            " |-- EmployeeType: string (nullable = true)\n",
            " |-- PayZone: string (nullable = true)\n",
            " |-- EmployeeClassificationType: string (nullable = true)\n",
            " |-- TerminationType: string (nullable = true)\n",
            " |-- TerminationDescription: string (nullable = true)\n",
            " |-- DepartmentType: string (nullable = true)\n",
            " |-- Division: string (nullable = true)\n",
            " |-- DOB: string (nullable = true)\n",
            " |-- State: string (nullable = true)\n",
            " |-- JobFunctionDescription: string (nullable = true)\n",
            " |-- GenderCode: string (nullable = true)\n",
            " |-- LocationCode: integer (nullable = true)\n",
            " |-- RaceDesc: string (nullable = true)\n",
            " |-- MaritalDesc: string (nullable = true)\n",
            " |-- Performance Score: string (nullable = true)\n",
            " |-- Name: string (nullable = true)\n",
            "\n"
          ]
        }
      ]
    },
    {
      "cell_type": "code",
      "source": [
        "df.select('JobFunctionDescription').describe().show()"
      ],
      "metadata": {
        "colab": {
          "base_uri": "https://localhost:8080/"
        },
        "id": "h2PF-YWd_dnB",
        "outputId": "61779423-5bf4-4279-e830-242c6f8c8955"
      },
      "execution_count": null,
      "outputs": [
        {
          "output_type": "stream",
          "name": "stdout",
          "text": [
            "+-------+----------------------+\n",
            "|summary|JobFunctionDescription|\n",
            "+-------+----------------------+\n",
            "|  count|                  3000|\n",
            "|   mean|                  null|\n",
            "| stddev|                  null|\n",
            "|    min|            Accountant|\n",
            "|    max|                Welder|\n",
            "+-------+----------------------+\n",
            "\n"
          ]
        }
      ]
    },
    {
      "cell_type": "code",
      "source": [
        "df.groupBy('JobFunctionDescription').count().show()"
      ],
      "metadata": {
        "colab": {
          "base_uri": "https://localhost:8080/"
        },
        "id": "NEOE5K0s_ylJ",
        "outputId": "32cd9fbe-9583-4b67-c73c-2779e7c9ce26"
      },
      "execution_count": null,
      "outputs": [
        {
          "output_type": "stream",
          "name": "stdout",
          "text": [
            "+----------------------+-----+\n",
            "|JobFunctionDescription|count|\n",
            "+----------------------+-----+\n",
            "|                 Labor|    6|\n",
            "|                Tester|    6|\n",
            "|             Contracts|    2|\n",
            "|              Services|    1|\n",
            "|                Runner|   12|\n",
            "|        Safety Manager|    2|\n",
            "|               Planner|    7|\n",
            "|                   Cpo|    2|\n",
            "|                   Evp|    1|\n",
            "|        Administrative|   56|\n",
            "|           Coordinator|   96|\n",
            "|                   Cfo|    3|\n",
            "|               Flagger|   34|\n",
            "|       Model Assistant|   13|\n",
            "|                Welder|    5|\n",
            "|            Controller|    7|\n",
            "|            Specialist|   15|\n",
            "|               Lineman|  169|\n",
            "|             Principal|    3|\n",
            "|              Director|   45|\n",
            "+----------------------+-----+\n",
            "only showing top 20 rows\n",
            "\n"
          ]
        }
      ]
    },
    {
      "cell_type": "code",
      "source": [
        "(\n",
        "    df\n",
        "      .groupBy(['JobFunctionDescription', 'GenderCode'])\n",
        "      .count()\n",
        "      .show()\n",
        ")"
      ],
      "metadata": {
        "colab": {
          "base_uri": "https://localhost:8080/"
        },
        "id": "zfzzhb-t__6F",
        "outputId": "f343b149-59de-4fe0-ea8c-5ab851e0a0cd"
      },
      "execution_count": null,
      "outputs": [
        {
          "output_type": "stream",
          "name": "stdout",
          "text": [
            "+----------------------+----------+-----+\n",
            "|JobFunctionDescription|GenderCode|count|\n",
            "+----------------------+----------+-----+\n",
            "|             Associate|      Male|    3|\n",
            "|            Specialist|    Female|   11|\n",
            "|      Field Technician|    Female|    3|\n",
            "|              Services|      Male|    1|\n",
            "|                   Cpo|    Female|    1|\n",
            "|                Welder|    Female|    3|\n",
            "|  Field Project Man...|      Male|    5|\n",
            "|            Generalist|    Female|    1|\n",
            "|       General Manager|      Male|    1|\n",
            "|        Administrative|    Female|   30|\n",
            "|                   Evp|    Female|    1|\n",
            "|   Executive Assistant|      Male|    4|\n",
            "|                Helper|      Male|    1|\n",
            "|                 Labor|      Male|    2|\n",
            "|              Engineer|      Male|  149|\n",
            "|            Specialist|      Male|    4|\n",
            "|       Project Manager|      Male|   41|\n",
            "|           Electrician|    Female|    1|\n",
            "|   Executive Assistant|    Female|    2|\n",
            "|            Accountant|      Male|    1|\n",
            "+----------------------+----------+-----+\n",
            "only showing top 20 rows\n",
            "\n"
          ]
        }
      ]
    },
    {
      "cell_type": "code",
      "source": [
        "(\n",
        "    df\n",
        "      .groupBy(['JobFunctionDescription', 'GenderCode'])\n",
        "      .pivot('GenderCode')\n",
        "      .count()\n",
        "      .show()\n",
        ")"
      ],
      "metadata": {
        "colab": {
          "base_uri": "https://localhost:8080/"
        },
        "id": "BRR9aX1fAEAU",
        "outputId": "93bbe7d5-7854-45a3-e590-5615dc2fc6d4"
      },
      "execution_count": null,
      "outputs": [
        {
          "output_type": "stream",
          "name": "stdout",
          "text": [
            "+----------------------+----------+------+----+\n",
            "|JobFunctionDescription|GenderCode|Female|Male|\n",
            "+----------------------+----------+------+----+\n",
            "|             Associate|      Male|  null|   3|\n",
            "|            Specialist|    Female|    11|null|\n",
            "|      Field Technician|    Female|     3|null|\n",
            "|              Services|      Male|  null|   1|\n",
            "|                   Cpo|    Female|     1|null|\n",
            "|                Welder|    Female|     3|null|\n",
            "|  Field Project Man...|      Male|  null|   5|\n",
            "|            Generalist|    Female|     1|null|\n",
            "|       General Manager|      Male|  null|   1|\n",
            "|        Administrative|    Female|    30|null|\n",
            "|                   Evp|    Female|     1|null|\n",
            "|   Executive Assistant|      Male|  null|   4|\n",
            "|                Helper|      Male|  null|   1|\n",
            "|                 Labor|      Male|  null|   2|\n",
            "|              Engineer|      Male|  null| 149|\n",
            "|            Specialist|      Male|  null|   4|\n",
            "|       Project Manager|      Male|  null|  41|\n",
            "|           Electrician|    Female|     1|null|\n",
            "|   Executive Assistant|    Female|     2|null|\n",
            "|            Accountant|      Male|  null|   1|\n",
            "+----------------------+----------+------+----+\n",
            "only showing top 20 rows\n",
            "\n"
          ]
        }
      ]
    },
    {
      "cell_type": "code",
      "source": [
        "(\n",
        "    df.groupBy('JobFunctionDescription')\n",
        "      .agg({'Name':'min'})\n",
        "      .show()\n",
        ")"
      ],
      "metadata": {
        "colab": {
          "base_uri": "https://localhost:8080/"
        },
        "id": "2YCFjTHcAxqJ",
        "outputId": "6c44a3bc-2d51-4ed3-dc8d-448e129475cb"
      },
      "execution_count": null,
      "outputs": [
        {
          "output_type": "stream",
          "name": "stdout",
          "text": [
            "+----------------------+------------------+\n",
            "|JobFunctionDescription|         min(Name)|\n",
            "+----------------------+------------------+\n",
            "|            Accountant|       Brady Yoder|\n",
            "|            Accounting|    Ann Montgomery|\n",
            "|        Administration|   Alfred Digitale|\n",
            "|        Administrative|     Abagail Banks|\n",
            "|         Administrator|    Adalyn Vaughan|\n",
            "|               Analyst|      Dean Winters|\n",
            "|            Apprentice|         Gordon Wu|\n",
            "|             Assistant|Abbigail Blanchard|\n",
            "|             Associate|   Addisyn Aguilar|\n",
            "|             Attendant|       Hana Lucero|\n",
            "|               Billing|  Angelique Mathis|\n",
            "|  Business Development|   Nickolas Guzman|\n",
            "|                   Ceo|      Jacoby Lyons|\n",
            "|                   Cfo|   Barbara Sutwell|\n",
            "|  Chief Operating O...|       Samson Meza|\n",
            "|                   Cio|    Raegan Stanton|\n",
            "|            Civil Hand|      Karter Perry|\n",
            "|              Clerical|     Katelyn Brown|\n",
            "|                 Clerk|      Alden Powers|\n",
            "|  Construction Manager|    Alfred Goodman|\n",
            "+----------------------+------------------+\n",
            "only showing top 20 rows\n",
            "\n"
          ]
        }
      ]
    },
    {
      "cell_type": "code",
      "source": [
        "df.printSchema()"
      ],
      "metadata": {
        "colab": {
          "base_uri": "https://localhost:8080/"
        },
        "id": "jD6lVFEDBjYR",
        "outputId": "812e8b4c-582a-4acd-e0f9-69674032b83d"
      },
      "execution_count": null,
      "outputs": [
        {
          "output_type": "stream",
          "name": "stdout",
          "text": [
            "root\n",
            " |-- EmpID: integer (nullable = true)\n",
            " |-- FirstName: string (nullable = true)\n",
            " |-- LastName: string (nullable = true)\n",
            " |-- StartDate: string (nullable = true)\n",
            " |-- ExitDate: string (nullable = true)\n",
            " |-- Title: string (nullable = true)\n",
            " |-- Supervisor: string (nullable = true)\n",
            " |-- ADEmail: string (nullable = true)\n",
            " |-- BusinessUnit: string (nullable = true)\n",
            " |-- EmployeeStatus: string (nullable = true)\n",
            " |-- EmployeeType: string (nullable = true)\n",
            " |-- PayZone: string (nullable = true)\n",
            " |-- EmployeeClassificationType: string (nullable = true)\n",
            " |-- TerminationType: string (nullable = true)\n",
            " |-- TerminationDescription: string (nullable = true)\n",
            " |-- DepartmentType: string (nullable = true)\n",
            " |-- Division: string (nullable = true)\n",
            " |-- DOB: string (nullable = true)\n",
            " |-- State: string (nullable = true)\n",
            " |-- JobFunctionDescription: string (nullable = true)\n",
            " |-- GenderCode: string (nullable = true)\n",
            " |-- LocationCode: integer (nullable = true)\n",
            " |-- RaceDesc: string (nullable = true)\n",
            " |-- MaritalDesc: string (nullable = true)\n",
            " |-- Performance Score: string (nullable = true)\n",
            " |-- Name: string (nullable = true)\n",
            "\n"
          ]
        }
      ]
    },
    {
      "cell_type": "code",
      "source": [],
      "metadata": {
        "id": "ERpPveX1Brrj"
      },
      "execution_count": null,
      "outputs": []
    }
  ]
}